{
 "cells": [
  {
   "cell_type": "markdown",
   "metadata": {},
   "source": [
    "# Function Approximation"
   ]
  },
  {
   "cell_type": "code",
   "execution_count": 341,
   "metadata": {},
   "outputs": [],
   "source": [
    "from sklearn.preprocessing import MinMaxScaler\n",
    "from sklearn.metrics import mean_squared_error\n",
    "from tensorflow.keras.models import Sequential\n",
    "from tensorflow.keras.layers import Dense\n",
    "import numpy as np\n",
    "import matplotlib.pyplot as plt"
   ]
  },
  {
   "cell_type": "markdown",
   "metadata": {},
   "source": [
    "## Import linear data"
   ]
  },
  {
   "cell_type": "code",
   "execution_count": 342,
   "metadata": {},
   "outputs": [],
   "source": [
    "dataset = pd.read_csv('1in_linear.txt', sep=\" \", header=None, delimiter=\"\\t\")\n",
    "x = dataset.iloc[:, 0 ].values\n",
    "y = dataset.iloc[:, 1 ].values\n",
    "y_actual = asarray([i for i in x])\n",
    "label = 'Linear'\n",
    "xplot = x\n",
    "dimension = 1"
   ]
  },
  {
   "cell_type": "markdown",
   "metadata": {},
   "source": [
    "## Import cubic data"
   ]
  },
  {
   "cell_type": "code",
   "execution_count": 343,
   "metadata": {},
   "outputs": [],
   "source": [
    "dataset = pd.read_csv('1in_cubic.txt', sep=\"\\s+\", header=None, delimiter=\"\\s+\")\n",
    "x = dataset.iloc[:, 0 ].values\n",
    "y = dataset.iloc[:, 1 ].values\n",
    "y_actual = asarray([pow(i,3) for i in x])\n",
    "label = 'Cubic'\n",
    "xplot = x\n",
    "dimension = 1"
   ]
  },
  {
   "cell_type": "markdown",
   "metadata": {},
   "source": [
    "## Import sine data"
   ]
  },
  {
   "cell_type": "code",
   "execution_count": 344,
   "metadata": {},
   "outputs": [],
   "source": [
    "dataset = pd.read_csv('1in_sine.txt', sep=\"\\s+\", header=None, delimiter=\"\\s+\")\n",
    "x = dataset.iloc[:, 0 ].values\n",
    "y = dataset.iloc[:, 1 ].values\n",
    "y_actual = asarray([np.sin(i) for i in x])\n",
    "label = 'Sine'\n",
    "xplot = x\n",
    "dimension = 1"
   ]
  },
  {
   "cell_type": "markdown",
   "metadata": {},
   "source": [
    "## Import tanh data"
   ]
  },
  {
   "cell_type": "code",
   "execution_count": 345,
   "metadata": {},
   "outputs": [],
   "source": [
    "dataset = pd.read_csv('1in_tanh.txt', sep=\"\\s+\", header=None, delimiter=\"\\s+\")\n",
    "x = dataset.iloc[:, 0 ].values\n",
    "y = dataset.iloc[:, 1 ].values\n",
    "y_actual = asarray([np.tanh(i) for i in x])\n",
    "label = 'Tanh'\n",
    "xplot = x\n",
    "dimension = 1"
   ]
  },
  {
   "cell_type": "markdown",
   "metadata": {},
   "source": [
    "## Import xor data"
   ]
  },
  {
   "cell_type": "code",
   "execution_count": 346,
   "metadata": {},
   "outputs": [],
   "source": [
    "dataset = pd.read_csv('2in_xor.txt', sep=\"\\s+\", header=None, delimiter=\"\\s+\")\n",
    "x = dataset.iloc[:, 0:2 ].values\n",
    "x1 = dataset.iloc[:, 0 ].values\n",
    "x2 = dataset.iloc[:, 1 ].values\n",
    "y = dataset.iloc[:, 2 ].values\n",
    "x1 = np.array(x1, dtype=bool)\n",
    "x2 = np.array(x2, dtype=bool)\n",
    "y_actual = np.array(x1^x2, dtype=int)\n",
    "label = 'XOR'\n",
    "xplot = x1\n",
    "dimension = 2"
   ]
  },
  {
   "cell_type": "markdown",
   "metadata": {},
   "source": [
    "## Import complex data"
   ]
  },
  {
   "cell_type": "code",
   "execution_count": 405,
   "metadata": {},
   "outputs": [],
   "source": [
    "dataset = pd.read_csv('2in_complex.txt', sep=\"\\s+\", header=None, delimiter=\"\\s+\")\n",
    "x = dataset.iloc[:, 0:2 ].values\n",
    "x1 = dataset.iloc[:, 0 ].values\n",
    "x2 = dataset.iloc[:, 1 ].values\n",
    "y = dataset.iloc[:, 2 ].values\n",
    "y_actual= 1.9*(1.35+(np.exp(x1-x2))*(np.sin((13*(pow((x1-0.6),2))))*(np.sin(7*x2))))\n",
    "label = 'Complex'\n",
    "xplot = x1\n",
    "dimension = 2"
   ]
  },
  {
   "cell_type": "markdown",
   "metadata": {},
   "source": [
    "## Initilise ANN"
   ]
  },
  {
   "cell_type": "code",
   "execution_count": 406,
   "metadata": {},
   "outputs": [],
   "source": [
    "ann = Sequential()\n",
    "ann.add(Dense(10, input_dim=dimension, activation='relu', kernel_initializer='he_uniform'))\n",
    "ann.add(Dense(10, activation='relu', kernel_initializer='he_uniform'))\n",
    "ann.add(Dense(1))"
   ]
  },
  {
   "cell_type": "markdown",
   "metadata": {},
   "source": [
    "## Compile and run ANN"
   ]
  },
  {
   "cell_type": "code",
   "execution_count": 407,
   "metadata": {},
   "outputs": [],
   "source": [
    "ann.compile(loss='mse', optimizer='adam')"
   ]
  },
  {
   "cell_type": "code",
   "execution_count": 408,
   "metadata": {},
   "outputs": [
    {
     "data": {
      "text/plain": [
       "<tensorflow.python.keras.callbacks.History at 0x7feb813beb20>"
      ]
     },
     "execution_count": 408,
     "metadata": {},
     "output_type": "execute_result"
    }
   ],
   "source": [
    "ann.fit(x, y, epochs=500, batch_size=10, verbose=0)"
   ]
  },
  {
   "cell_type": "code",
   "execution_count": 409,
   "metadata": {},
   "outputs": [],
   "source": [
    "yhat = ann.predict(x)"
   ]
  },
  {
   "cell_type": "markdown",
   "metadata": {},
   "source": [
    "## Print Mean Squared Error and plot comparison"
   ]
  },
  {
   "cell_type": "code",
   "execution_count": 410,
   "metadata": {},
   "outputs": [
    {
     "name": "stdout",
     "output_type": "stream",
     "text": [
      "MSE: 11.432\n"
     ]
    }
   ],
   "source": [
    "print('MSE: %.3f' %mean_squared_error(y_actual, yhat))"
   ]
  },
  {
   "cell_type": "code",
   "execution_count": 411,
   "metadata": {},
   "outputs": [
    {
     "data": {
      "image/png": "[encoded data removed]",
      "text/plain": [
       "<Figure size 432x288 with 1 Axes>"
      ]
     },
     "metadata": {
      "needs_background": "light"
     },
     "output_type": "display_data"
    }
   ],
   "source": [
    "plt.scatter(x_plot,y_actual, label = 'Actual')\n",
    "plt.scatter(x_plot, yhat, label = 'Predicted')\n",
    "plt.title(label + ' Function')\n",
    "plt.legend()\n",
    "plt.show()"
   ]
  }
 ],
 "metadata": {
  "kernelspec": {
   "display_name": "Python 3",
   "language": "python",
   "name": "python3"
  },
  "language_info": {
   "codemirror_mode": {
    "name": "ipython",
    "version": 3
   },
   "file_extension": ".py",
   "mimetype": "text/x-python",
   "name": "python",
   "nbconvert_exporter": "python",
   "pygments_lexer": "ipython3",
   "version": "3.8.3"
  }
 },
 "nbformat": 4,
 "nbformat_minor": 4
}
