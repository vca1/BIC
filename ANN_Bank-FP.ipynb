{
 "cells": [
  {
   "cell_type": "markdown",
   "metadata": {
    "colab_type": "text",
    "id": "lP6JLo1tGNBg"
   },
   "source": [
    "# BIC- PSO ANN Optimisation"
   ]
  },
  {
   "cell_type": "markdown",
   "metadata": {
    "colab_type": "text",
    "id": "gWZyYmS_UE_L"
   },
   "source": [
    "### Importing the libraries"
   ]
  },
  {
   "cell_type": "code",
   "execution_count": 1,
   "metadata": {
    "colab": {},
    "colab_type": "code",
    "id": "MxkJoQBkUIHC"
   },
   "outputs": [],
   "source": [
    "import numpy as np\n",
    "import pandas as pd\n",
    "import matplotlib.pyplot as plt\n",
    "\n",
    "\n",
    "# Import PySwarms as instructed by pyswarms webpage\n",
    "import pyswarms as ps\n",
    "\n",
    "%load_ext autoreload\n",
    "%autoreload 2"
   ]
  },
  {
   "cell_type": "markdown",
   "metadata": {
    "colab_type": "text",
    "id": "1E0Q3aoKUCRX"
   },
   "source": [
    "## 1. Implement a multi-layer ANN architecture"
   ]
  },
  {
   "cell_type": "markdown",
   "metadata": {},
   "source": [
    "### Data Preprocessing"
   ]
  },
  {
   "cell_type": "markdown",
   "metadata": {
    "colab_type": "text",
    "id": "cKWAkFVGUU0Z"
   },
   "source": [
    "#### Importing the dataset (Churn Modelling)"
   ]
  },
  {
   "cell_type": "code",
   "execution_count": 2,
   "metadata": {
    "colab": {},
    "colab_type": "code",
    "id": "MXUkhkMfU4wq"
   },
   "outputs": [
    {
     "name": "stdout",
     "output_type": "stream",
     "text": [
      "[[619 'France' 'Female' ... 1 1 101348.88]\n",
      " [608 'Spain' 'Female' ... 0 1 112542.58]\n",
      " [502 'France' 'Female' ... 1 0 113931.57]\n",
      " ...\n",
      " [806 'France' 'Male' ... 1 1 142838.64]\n",
      " [757 'Germany' 'Male' ... 1 1 127059.04]\n",
      " [570 'France' 'Female' ... 0 1 116503.92]]\n"
     ]
    }
   ],
   "source": [
    "dataset = pd.read_csv('Churn_Modelling.csv')\n",
    "X = dataset.iloc[:, 3:-1].values\n",
    "y = dataset.iloc[:, -1].values\n",
    "print(X)"
   ]
  },
  {
   "cell_type": "markdown",
   "metadata": {
    "colab_type": "text",
    "id": "cKWAkFVGUU0Z"
   },
   "source": [
    "#### Encoding gender label"
   ]
  },
  {
   "cell_type": "code",
   "execution_count": 3,
   "metadata": {},
   "outputs": [],
   "source": [
    "from sklearn.preprocessing import LabelEncoder\n",
    "le = LabelEncoder()\n",
    "X[:, 2] = le.fit_transform(X[:, 2])"
   ]
  },
  {
   "cell_type": "markdown",
   "metadata": {
    "colab_type": "text",
    "id": "cKWAkFVGUU0Z"
   },
   "source": [
    "#### Encoding geography label"
   ]
  },
  {
   "cell_type": "code",
   "execution_count": 4,
   "metadata": {},
   "outputs": [],
   "source": [
    "from sklearn.compose import ColumnTransformer\n",
    "from sklearn.preprocessing import OneHotEncoder\n",
    "ct = ColumnTransformer(transformers=[('encoder', OneHotEncoder(), [1])], remainder='passthrough')\n",
    "X = np.array(ct.fit_transform(X))"
   ]
  },
  {
   "cell_type": "markdown",
   "metadata": {
    "colab_type": "text",
    "id": "-zfEzkRVXIwF"
   },
   "source": [
    "### Building the ANN"
   ]
  },
  {
   "cell_type": "markdown",
   "metadata": {
    "colab_type": "text",
    "id": "KvdeScabXtlB"
   },
   "source": [
    "#### Initialising the ANN"
   ]
  },
  {
   "cell_type": "code",
   "execution_count": 5,
   "metadata": {
    "colab": {},
    "colab_type": "code",
    "id": "3dtrScHxXQox"
   },
   "outputs": [],
   "source": [
    "#ANN architecture\n",
    "n_inputs = 12\n",
    "n_hidden = 20\n",
    "n_classes = 2\n",
    "\n",
    "num_samples = len(y)"
   ]
  },
  {
   "cell_type": "code",
   "execution_count": 6,
   "metadata": {},
   "outputs": [],
   "source": [
    "#Add weight calculation\n",
    "def logits_f(p):\n",
    "\n",
    "    W1 = p[0:240].reshape((n_inputs,n_hidden))\n",
    "    b1 = p[240:260].reshape((n_hidden,))\n",
    "    W2 = p[260:300].reshape((n_hidden,n_classes))\n",
    "    b2 = p[300:302].reshape((n_classes,))\n",
    "\n",
    "# Forward propagation\n",
    "    z1 = X.dot(W1) + b1 \n",
    "    a1 = np.tanh(z1.astype(float))    \n",
    "    logits = a1.dot(W2) + b2 \n",
    "    return logits         "
   ]
  },
  {
   "cell_type": "code",
   "execution_count": 7,
   "metadata": {},
   "outputs": [],
   "source": [
    "def f_prop(params):\n",
    "\n",
    "    logits = logits_f(params)\n",
    "\n",
    "# Softmax\n",
    "    scores = np.exp(logits)\n",
    "    probs = scores / np.sum(scores, axis=1, keepdims=True)\n",
    "\n",
    "    corect_logprobs = -np.log(probs[range(num_samples), y])\n",
    "    loss = np.sum(corect_logprobs) / num_samples\n",
    "\n",
    "    return loss\n"
   ]
  },
  {
   "cell_type": "code",
   "execution_count": 8,
   "metadata": {},
   "outputs": [],
   "source": [
    "def f(x):\n",
    "    n_particles = x.shape[0]\n",
    "    j = [f_prop(x[i]) for i in range(n_particles)]\n",
    "    return np.array(j)"
   ]
  },
  {
   "cell_type": "markdown",
   "metadata": {},
   "source": [
    "## PSO Oprimisation with pyswarms"
   ]
  },
  {
   "cell_type": "code",
   "execution_count": 9,
   "metadata": {},
   "outputs": [
    {
     "name": "stderr",
     "output_type": "stream",
     "text": [
      "2020-11-23 11:46:49,446 - pyswarms.single.local_best - INFO - Optimize for 500 iters with {'c1': 0.5, 'c2': 0.3, 'w': 0.9, 'k': 2, 'p': 2}\n",
      "pyswarms.single.local_best: 100%|██████████|500/500, best_cost=0.491\n",
      "2020-11-23 11:48:36,716 - pyswarms.single.local_best - INFO - Optimization finished | best cost: 0.49131496181382045, best pos: [ 2.61493545e-01  3.49720629e-02  2.79237855e-01  3.68769197e-03\n",
      "  2.34901648e-01  3.59094535e-03  6.75716343e-01  4.08865091e-01\n",
      "  3.97900047e-03 -1.91666789e-01  3.71754386e-01  2.07576712e-01\n",
      " -3.10559614e-01  3.32459183e-01 -3.04682384e-01 -3.64210235e-01\n",
      "  1.28305522e-01 -3.82918655e-01 -2.88577154e-01  1.37628929e-01\n",
      " -4.81933733e-01  2.25887517e-01 -6.87020885e-01  3.21581862e-03\n",
      "  2.45942923e-01  2.24812573e-01  2.04149858e-01 -1.39963771e-01\n",
      "  2.73164070e-02 -2.90212900e-01 -3.78187298e-01 -1.66896787e-01\n",
      " -2.44026485e-01  4.40295314e-01  3.14896941e-02 -3.20593746e-01\n",
      "  1.36311954e-02 -9.12794946e-01 -4.53251255e-01 -3.09634781e-01\n",
      "  7.98626582e-02  2.88322635e-02  9.98613516e-02 -4.56457159e-01\n",
      " -7.58177584e-01  6.70743403e-04  7.06546359e-01  5.51119081e-01\n",
      "  4.96879279e-02  9.06720441e-02  5.70994224e-01  5.88916575e-01\n",
      " -7.87073380e-02  1.09251651e-02  1.74175781e-01 -3.42707471e-01\n",
      "  4.93725463e-01  7.46208027e-01 -2.96298718e-02  5.36111270e-01\n",
      "  9.45539911e-02  6.56320354e-02  4.77575529e-01  4.19010067e-01\n",
      "  5.26958012e-02  2.41718463e-02  5.94357207e-01 -5.06689144e-01\n",
      " -2.92058149e-01 -3.20607062e-01  2.91459116e-01  5.89419188e-01\n",
      " -5.19112851e-01  3.49173951e-01  1.25785910e-01  9.16666519e-01\n",
      "  3.96225103e-01 -1.61639289e-01  4.59310174e-01 -1.05399300e+00\n",
      " -8.57560448e-02  1.66928545e-01  2.95152787e-01 -3.98125456e-01\n",
      " -1.10927403e+00  6.30133820e-01 -4.96566690e-01  7.17676033e-01\n",
      "  1.31822636e-01 -5.98801219e-01 -6.06836516e-01  2.43594125e-01\n",
      " -4.70425558e-01  8.24565471e-01  2.65640728e-01 -7.89736239e-01\n",
      " -1.22850057e+00  2.61157534e-01 -9.32168975e-02  7.56590436e-01\n",
      "  1.84385544e-01  8.93606011e-01  6.84066554e-01 -6.01263495e-01\n",
      " -1.11322753e-01  2.71855018e-01 -4.49476977e-01  7.47192317e-01\n",
      " -8.68564029e-01  2.82467258e-03  2.79813138e-01 -3.83625654e-01\n",
      " -2.57737261e-01 -2.53487347e-01  3.46009581e-01 -1.65428557e-02\n",
      "  3.98319315e-01  6.18804058e-01  5.05753603e-02 -2.78647699e-01\n",
      "  3.39190609e-01 -3.74584799e-01 -6.87511597e-02  1.09629150e-01\n",
      "  3.88657952e-01  3.61181529e-01  1.56365541e-01  3.71408590e-01\n",
      " -8.35259312e-01  4.49882145e-02  4.06464593e-01 -2.86746055e-01\n",
      " -4.42770346e-01 -9.15760230e-01  6.29662415e-01 -1.52512726e-01\n",
      " -1.44504779e-01  4.46721941e-01 -1.70447187e-02  2.68238245e-01\n",
      "  6.42442793e-01  5.78289930e-02  3.49674661e-01  1.78314223e-01\n",
      "  1.75199155e-01 -6.02265255e-01  8.96432899e-01 -1.06504946e-01\n",
      " -1.58169050e+00 -2.85005878e-01  2.20811138e-01  4.53433166e-01\n",
      " -1.66615074e-02 -1.58904593e-01 -1.93052976e-01  5.22185991e-01\n",
      "  8.09940632e-02  3.77267449e-02  8.99978001e-02 -8.51419884e-01\n",
      "  3.08933641e-01  1.74391886e-01  6.87719892e-01 -3.65408050e-01\n",
      "  3.72966150e-01  4.72452836e-01  3.79405607e-01 -1.44057168e-01\n",
      "  1.86752381e-01 -5.11764101e-01 -1.24586788e-01  3.01328004e-01\n",
      " -5.44835891e-03  3.28769033e-01 -8.02942898e-01 -2.33622439e-01\n",
      "  6.73057270e-01  4.78815889e-01 -1.74383280e-01  8.34442058e-01\n",
      " -8.57383482e-01  5.15526103e-02 -4.98825013e-01  4.22053814e-01\n",
      "  4.86284174e-01 -1.30440673e+00 -3.73077331e-01  2.24232450e-01\n",
      " -5.70958879e-01 -4.32240495e-01  5.43451085e-02  5.03464774e-01\n",
      "  5.00876062e-01 -4.04539434e-01  1.61094718e-01 -1.57750273e+00\n",
      "  1.41064607e-01 -4.29766952e-01 -1.79305491e-01  4.45986898e-01\n",
      " -4.25251788e-02  1.62752214e-01 -1.98643202e-01  7.23195817e-01\n",
      "  1.27966401e-01  3.90925769e-01  2.64104424e-01 -3.98435397e-01\n",
      " -9.22575091e-02 -6.11432383e-01  8.47742308e-01  2.42371127e-01\n",
      " -8.85628819e-03 -3.77290022e-01 -8.16877202e-02  9.07216288e-01\n",
      " -4.01866250e-01  1.17306264e-01  9.70948594e-01 -4.63390436e-02\n",
      "  8.14182958e-01 -5.38000124e-01  3.72662811e-02 -1.79200015e-03\n",
      "  3.19087534e-01  1.43513096e-01  3.59894218e-01 -1.16209617e+00\n",
      " -2.48354231e-02  5.85205403e-01  3.34597623e-01  3.29497643e-01\n",
      " -1.22754336e-01  1.77607631e-02  6.21946888e-01 -4.15143394e-02\n",
      "  3.68067671e-01  1.14060688e-01  4.78609153e-01  2.95151386e-02\n",
      " -7.60700527e-01  2.77727848e-03  8.81797516e-01  1.46544722e-01\n",
      "  1.75903210e-01 -5.23817923e-01  3.95034217e-01  4.10896851e-01\n",
      "  2.55066610e-01  2.51563649e-01 -7.15725021e-02  1.69408712e-01\n",
      "  2.87132423e-01  8.44250710e-01  5.51298407e-01  6.80663216e-01\n",
      " -3.95400939e-01  6.90736026e-01  4.99148605e-01  1.05302729e-01\n",
      "  1.13330278e-01  8.49674091e-02  1.61127578e-02  6.83002346e-02\n",
      "  1.00376549e-01 -3.00469456e-01  2.90205636e-02 -1.15294366e-01\n",
      " -1.26961254e-01 -4.72440398e-02  3.12921161e-01  1.81421680e-01\n",
      "  4.67092199e-01  6.70243518e-02 -4.35658342e-02  3.41851174e-01\n",
      "  3.31912594e-01 -6.03379381e-01  1.39709217e-01  6.02695677e-03\n",
      " -4.38158109e-01  2.86349676e-04 -2.70027706e-02 -4.12997181e-01\n",
      "  4.76217584e-01  8.26140391e-01  3.40042003e-01  3.19216134e-01\n",
      "  6.01753290e-01  6.50194851e-01  1.80701225e-01  5.57839731e-01\n",
      " -6.33444213e-01  4.17739682e-01  9.34878044e-01  3.12764045e-02\n",
      "  4.45983463e-01 -7.51471768e-01  2.40125752e-01  3.60988150e-01\n",
      " -2.20610211e-01  8.16736069e-04 -9.59091601e-01 -3.64157653e-01\n",
      "  8.89151501e-01 -2.10341627e-01 -2.07151270e-02 -3.89798599e-01\n",
      " -4.11932778e-01  5.45026726e-01  9.87948815e-01  1.80180722e-01\n",
      "  6.06961892e-01  7.61562237e-02 -4.68824538e-01  6.68842815e-01\n",
      "  3.56306760e-01  6.21196220e-01 -4.56436493e-02 -1.71487178e-01\n",
      " -6.55092672e-02  2.98920667e-01  1.03814094e-01  1.13188229e-01\n",
      " -1.09203253e+00  3.81694471e-01 -5.43605274e-02  2.51515908e-01\n",
      "  2.63596319e-01 -1.24189250e-01  4.48027523e-01 -5.98671672e-01\n",
      "  1.41618984e-01  2.73676863e-01 -6.80118322e-01  6.61741661e-02\n",
      " -3.68902580e-01  8.53717209e-01 -9.44361410e-02  6.58772934e-01\n",
      " -1.25359987e-01  6.36893735e-01]\n"
     ]
    }
   ],
   "source": [
    "options = {'c1': 0.5, 'c2': 0.3, 'w':0.9, 'k':2, 'p':2}\n",
    "\n",
    "dimensions = (n_inputs * n_hidden) + (n_hidden * n_classes) + 3*n_hidden + n_classes\n",
    "optimizer = ps.single.LocalBestPSO(n_particles=50, dimensions=dimensions, options=options)\n",
    "\n",
    "cost, pos = optimizer.optimize(f, iters=500)"
   ]
  },
  {
   "cell_type": "code",
   "execution_count": 10,
   "metadata": {},
   "outputs": [],
   "source": [
    "def predict(pos):\n",
    "\n",
    "    logits = logits_function(pos)\n",
    "    y_pred = np.argmax(logits, axis=1)\n",
    "    return y_pred"
   ]
  },
  {
   "cell_type": "code",
   "execution_count": 11,
   "metadata": {},
   "outputs": [
    {
     "ename": "NameError",
     "evalue": "name 'logits_function' is not defined",
     "output_type": "error",
     "traceback": [
      "\u001b[0;31m---------------------------------------------------------------------------\u001b[0m",
      "\u001b[0;31mNameError\u001b[0m                                 Traceback (most recent call last)",
      "\u001b[0;32m<ipython-input-11-3039b0186a68>\u001b[0m in \u001b[0;36m<module>\u001b[0;34m\u001b[0m\n\u001b[0;32m----> 1\u001b[0;31m \u001b[0;34m(\u001b[0m\u001b[0mpredict\u001b[0m\u001b[0;34m(\u001b[0m\u001b[0mpos\u001b[0m\u001b[0;34m)\u001b[0m \u001b[0;34m==\u001b[0m \u001b[0my\u001b[0m\u001b[0;34m)\u001b[0m\u001b[0;34m.\u001b[0m\u001b[0mmean\u001b[0m\u001b[0;34m(\u001b[0m\u001b[0;34m)\u001b[0m\u001b[0;34m\u001b[0m\u001b[0;34m\u001b[0m\u001b[0m\n\u001b[0m",
      "\u001b[0;32m<ipython-input-10-9840f7fda65e>\u001b[0m in \u001b[0;36mpredict\u001b[0;34m(pos)\u001b[0m\n\u001b[1;32m      1\u001b[0m \u001b[0;32mdef\u001b[0m \u001b[0mpredict\u001b[0m\u001b[0;34m(\u001b[0m\u001b[0mpos\u001b[0m\u001b[0;34m)\u001b[0m\u001b[0;34m:\u001b[0m\u001b[0;34m\u001b[0m\u001b[0;34m\u001b[0m\u001b[0m\n\u001b[1;32m      2\u001b[0m \u001b[0;34m\u001b[0m\u001b[0m\n\u001b[0;32m----> 3\u001b[0;31m     \u001b[0mlogits\u001b[0m \u001b[0;34m=\u001b[0m \u001b[0mlogits_function\u001b[0m\u001b[0;34m(\u001b[0m\u001b[0mpos\u001b[0m\u001b[0;34m)\u001b[0m\u001b[0;34m\u001b[0m\u001b[0;34m\u001b[0m\u001b[0m\n\u001b[0m\u001b[1;32m      4\u001b[0m     \u001b[0my_pred\u001b[0m \u001b[0;34m=\u001b[0m \u001b[0mnp\u001b[0m\u001b[0;34m.\u001b[0m\u001b[0margmax\u001b[0m\u001b[0;34m(\u001b[0m\u001b[0mlogits\u001b[0m\u001b[0;34m,\u001b[0m \u001b[0maxis\u001b[0m\u001b[0;34m=\u001b[0m\u001b[0;36m1\u001b[0m\u001b[0;34m)\u001b[0m\u001b[0;34m\u001b[0m\u001b[0;34m\u001b[0m\u001b[0m\n\u001b[1;32m      5\u001b[0m     \u001b[0;32mreturn\u001b[0m \u001b[0my_pred\u001b[0m\u001b[0;34m\u001b[0m\u001b[0;34m\u001b[0m\u001b[0m\n",
      "\u001b[0;31mNameError\u001b[0m: name 'logits_function' is not defined"
     ]
    }
   ],
   "source": [
    "(predict(pos) == y).mean()"
   ]
  }
 ],
 "metadata": {
  "colab": {
   "collapsed_sections": [],
   "name": "artificial_neural_network.ipynb",
   "provenance": [],
   "toc_visible": true
  },
  "kernelspec": {
   "display_name": "Python 3",
   "language": "python",
   "name": "python3"
  },
  "language_info": {
   "codemirror_mode": {
    "name": "ipython",
    "version": 3
   },
   "file_extension": ".py",
   "mimetype": "text/x-python",
   "name": "python",
   "nbconvert_exporter": "python",
   "pygments_lexer": "ipython3",
   "version": "3.8.3"
  }
 },
 "nbformat": 4,
 "nbformat_minor": 1
}
