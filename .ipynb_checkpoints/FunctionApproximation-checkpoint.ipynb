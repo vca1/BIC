{
 "cells": [
  {
   "cell_type": "markdown",
   "metadata": {},
   "source": [
    "# Function Approximation"
   ]
  },
  {
   "cell_type": "code",
   "execution_count": 1,
   "metadata": {},
   "outputs": [],
   "source": [
    "import pandas as pd\n",
    "from sklearn.preprocessing import MinMaxScaler\n",
    "from sklearn.metrics import mean_squared_error\n",
    "from tensorflow.keras.models import Sequential\n",
    "from tensorflow.keras.layers import Dense\n",
    "import numpy as np\n",
    "import matplotlib.pyplot as plt"
   ]
  },
  {
   "cell_type": "markdown",
   "metadata": {},
   "source": [
    "## Select function to approximate: (linear, cubic, sine, tanh, xor, complex)"
   ]
  },
  {
   "cell_type": "code",
   "execution_count": 2,
   "metadata": {},
   "outputs": [
    {
     "name": "stdout",
     "output_type": "stream",
     "text": [
      "Indicate function: tanh\n"
     ]
    }
   ],
   "source": [
    "function = input('Indicate function: ')"
   ]
  },
  {
   "cell_type": "markdown",
   "metadata": {},
   "source": [
    "### Import linear data"
   ]
  },
  {
   "cell_type": "code",
   "execution_count": 3,
   "metadata": {},
   "outputs": [],
   "source": [
    "if function == 'linear' :\n",
    "    dataset = pd.read_csv('1in_linear.txt', sep=\" \", header=None, delimiter=\"\\t\")\n",
    "    x = dataset.iloc[:, 0 ].values\n",
    "    y = dataset.iloc[:, 1 ].values\n",
    "    y_actual = np.asarray([i for i in x])\n",
    "    label = 'Linear'\n",
    "    xplot = x\n",
    "    dimension = 1\n"
   ]
  },
  {
   "cell_type": "markdown",
   "metadata": {},
   "source": [
    "### Import cubic data"
   ]
  },
  {
   "cell_type": "code",
   "execution_count": 4,
   "metadata": {},
   "outputs": [],
   "source": [
    "if function == 'cubic' :\n",
    "    dataset = pd.read_csv('1in_cubic.txt', sep=\"\\s+\", header=None, delimiter=\"\\s+\")\n",
    "    x = dataset.iloc[:, 0 ].values\n",
    "    y = dataset.iloc[:, 1 ].values\n",
    "    y_actual = np.asarray([pow(i,3) for i in x])\n",
    "    label = 'Cubic'\n",
    "    xplot = x\n",
    "    dimension = 1"
   ]
  },
  {
   "cell_type": "markdown",
   "metadata": {},
   "source": [
    "### Import sine data"
   ]
  },
  {
   "cell_type": "code",
   "execution_count": 5,
   "metadata": {},
   "outputs": [],
   "source": [
    "if function == 'sine' :\n",
    "    dataset = pd.read_csv('1in_sine.txt', sep=\"\\s+\", header=None, delimiter=\"\\s+\")\n",
    "    x = dataset.iloc[:, 0 ].values\n",
    "    y = dataset.iloc[:, 1 ].values\n",
    "    y_actual = np.asarray([np.sin(-i*np.pi) for i in x])\n",
    "    label = 'Sine'\n",
    "    xplot = x\n",
    "    dimension = 1"
   ]
  },
  {
   "cell_type": "markdown",
   "metadata": {},
   "source": [
    "### Import tanh data"
   ]
  },
  {
   "cell_type": "code",
   "execution_count": 6,
   "metadata": {},
   "outputs": [],
   "source": [
    "if function == 'tanh' :\n",
    "    dataset = pd.read_csv('1in_tanh.txt', sep=\"\\s+\", header=None, delimiter=\"\\s+\")\n",
    "    x = dataset.iloc[:, 0 ].values\n",
    "    y = dataset.iloc[:, 1 ].values\n",
    "    y_actual = np.asarray([np.tanh((pow(np.pi,2))*i) for i in x])\n",
    "    label = 'Tanh'\n",
    "    xplot = x\n",
    "    dimension = 1"
   ]
  },
  {
   "cell_type": "markdown",
   "metadata": {},
   "source": [
    "### Import xor data"
   ]
  },
  {
   "cell_type": "code",
   "execution_count": 7,
   "metadata": {},
   "outputs": [],
   "source": [
    "if function == 'xor' :\n",
    "    dataset = pd.read_csv('2in_xor.txt', sep=\"\\s+\", header=None, delimiter=\"\\s+\")\n",
    "    x = dataset.iloc[:, 0:2 ].values\n",
    "    x1 = dataset.iloc[:, 0 ].values\n",
    "    x2 = dataset.iloc[:, 1 ].values\n",
    "    y = dataset.iloc[:, 2 ].values\n",
    "    x1 = np.array(x1, dtype=bool)\n",
    "    x2 = np.array(x2, dtype=bool)\n",
    "    y_actual = np.array(x1^x2, dtype=int)\n",
    "    label = 'XOR'\n",
    "    xplot = x1\n",
    "    dimension = 2"
   ]
  },
  {
   "cell_type": "markdown",
   "metadata": {},
   "source": [
    "### Import complex data"
   ]
  },
  {
   "cell_type": "code",
   "execution_count": 8,
   "metadata": {},
   "outputs": [],
   "source": [
    "if function == 'complex' :\n",
    "    dataset = pd.read_csv('2in_complex.txt', sep=\"\\s+\", header=None, delimiter=\"\\s+\")\n",
    "    x = dataset.iloc[:, 0:2 ].values\n",
    "    x1 = dataset.iloc[:, 0 ].values\n",
    "    x2 = dataset.iloc[:, 1 ].values\n",
    "    y = dataset.iloc[:, 2 ].values\n",
    "    y_actual= 1.9*(1.35+(np.exp(x1-x2))*(np.sin((13*(pow((x1-0.6),2))))*(np.sin(7*x2))))\n",
    "    label = 'Complex'\n",
    "    xplot = x1\n",
    "    dimension = 2"
   ]
  },
  {
   "cell_type": "markdown",
   "metadata": {},
   "source": [
    "## Initilise ANN"
   ]
  },
  {
   "cell_type": "code",
   "execution_count": 9,
   "metadata": {},
   "outputs": [],
   "source": [
    "ann = Sequential()\n",
    "ann.add(Dense(10, input_dim=dimension, activation='relu', kernel_initializer='he_uniform'))\n",
    "ann.add(Dense(10, activation='relu', kernel_initializer='he_uniform'))\n",
    "ann.add(Dense(1))"
   ]
  },
  {
   "cell_type": "markdown",
   "metadata": {},
   "source": [
    "## Compile and run ANN"
   ]
  },
  {
   "cell_type": "code",
   "execution_count": 10,
   "metadata": {},
   "outputs": [],
   "source": [
    "ann.compile(loss='mse', optimizer='adam')"
   ]
  },
  {
   "cell_type": "code",
   "execution_count": 11,
   "metadata": {},
   "outputs": [
    {
     "name": "stdout",
     "output_type": "stream",
     "text": [
      "Epoch 1/100\n",
      "11/11 [==============================] - 0s 686us/step - loss: 1.7298\n",
      "Epoch 2/100\n",
      "11/11 [==============================] - 0s 746us/step - loss: 1.4991\n",
      "Epoch 3/100\n",
      "11/11 [==============================] - 0s 548us/step - loss: 1.3269\n",
      "Epoch 4/100\n",
      "11/11 [==============================] - 0s 637us/step - loss: 1.1696\n",
      "Epoch 5/100\n",
      "11/11 [==============================] - 0s 578us/step - loss: 1.0408\n",
      "Epoch 6/100\n",
      "11/11 [==============================] - 0s 535us/step - loss: 0.9219\n",
      "Epoch 7/100\n",
      "11/11 [==============================] - 0s 543us/step - loss: 0.8323\n",
      "Epoch 8/100\n",
      "11/11 [==============================] - 0s 681us/step - loss: 0.7613\n",
      "Epoch 9/100\n",
      "11/11 [==============================] - 0s 594us/step - loss: 0.6977\n",
      "Epoch 10/100\n",
      "11/11 [==============================] - 0s 556us/step - loss: 0.6460\n",
      "Epoch 11/100\n",
      "11/11 [==============================] - 0s 524us/step - loss: 0.5923\n",
      "Epoch 12/100\n",
      "11/11 [==============================] - 0s 605us/step - loss: 0.5535\n",
      "Epoch 13/100\n",
      "11/11 [==============================] - 0s 614us/step - loss: 0.5234\n",
      "Epoch 14/100\n",
      "11/11 [==============================] - 0s 539us/step - loss: 0.4999\n",
      "Epoch 15/100\n",
      "11/11 [==============================] - 0s 532us/step - loss: 0.4784\n",
      "Epoch 16/100\n",
      "11/11 [==============================] - 0s 600us/step - loss: 0.4609\n",
      "Epoch 17/100\n",
      "11/11 [==============================] - 0s 673us/step - loss: 0.4460\n",
      "Epoch 18/100\n",
      "11/11 [==============================] - 0s 536us/step - loss: 0.4348\n",
      "Epoch 19/100\n",
      "11/11 [==============================] - 0s 536us/step - loss: 0.4231\n",
      "Epoch 20/100\n",
      "11/11 [==============================] - 0s 608us/step - loss: 0.4131\n",
      "Epoch 21/100\n",
      "11/11 [==============================] - 0s 651us/step - loss: 0.4044\n",
      "Epoch 22/100\n",
      "11/11 [==============================] - 0s 564us/step - loss: 0.3958\n",
      "Epoch 23/100\n",
      "11/11 [==============================] - 0s 542us/step - loss: 0.3886\n",
      "Epoch 24/100\n",
      "11/11 [==============================] - 0s 574us/step - loss: 0.3813\n",
      "Epoch 25/100\n",
      "11/11 [==============================] - 0s 666us/step - loss: 0.3756\n",
      "Epoch 26/100\n",
      "11/11 [==============================] - 0s 546us/step - loss: 0.3690\n",
      "Epoch 27/100\n",
      "11/11 [==============================] - 0s 536us/step - loss: 0.3625\n",
      "Epoch 28/100\n",
      "11/11 [==============================] - 0s 556us/step - loss: 0.3561\n",
      "Epoch 29/100\n",
      "11/11 [==============================] - 0s 651us/step - loss: 0.3500\n",
      "Epoch 30/100\n",
      "11/11 [==============================] - 0s 561us/step - loss: 0.3441\n",
      "Epoch 31/100\n",
      "11/11 [==============================] - 0s 523us/step - loss: 0.3377\n",
      "Epoch 32/100\n",
      "11/11 [==============================] - 0s 518us/step - loss: 0.3316\n",
      "Epoch 33/100\n",
      "11/11 [==============================] - 0s 626us/step - loss: 0.3254\n",
      "Epoch 34/100\n",
      "11/11 [==============================] - 0s 550us/step - loss: 0.3193\n",
      "Epoch 35/100\n",
      "11/11 [==============================] - 0s 533us/step - loss: 0.3132\n",
      "Epoch 36/100\n",
      "11/11 [==============================] - 0s 576us/step - loss: 0.3086\n",
      "Epoch 37/100\n",
      "11/11 [==============================] - 0s 650us/step - loss: 0.3028\n",
      "Epoch 38/100\n",
      "11/11 [==============================] - 0s 589us/step - loss: 0.2966\n",
      "Epoch 39/100\n",
      "11/11 [==============================] - 0s 551us/step - loss: 0.2902\n",
      "Epoch 40/100\n",
      "11/11 [==============================] - 0s 543us/step - loss: 0.2854\n",
      "Epoch 41/100\n",
      "11/11 [==============================] - 0s 628us/step - loss: 0.2796\n",
      "Epoch 42/100\n",
      "11/11 [==============================] - 0s 592us/step - loss: 0.2736\n",
      "Epoch 43/100\n",
      "11/11 [==============================] - 0s 521us/step - loss: 0.2679\n",
      "Epoch 44/100\n",
      "11/11 [==============================] - 0s 507us/step - loss: 0.2635\n",
      "Epoch 45/100\n",
      "11/11 [==============================] - 0s 611us/step - loss: 0.2574\n",
      "Epoch 46/100\n",
      "11/11 [==============================] - 0s 682us/step - loss: 0.2520\n",
      "Epoch 47/100\n",
      "11/11 [==============================] - 0s 564us/step - loss: 0.2462\n",
      "Epoch 48/100\n",
      "11/11 [==============================] - 0s 537us/step - loss: 0.2405\n",
      "Epoch 49/100\n",
      "11/11 [==============================] - 0s 593us/step - loss: 0.2354\n",
      "Epoch 50/100\n",
      "11/11 [==============================] - 0s 628us/step - loss: 0.2300\n",
      "Epoch 51/100\n",
      "11/11 [==============================] - 0s 537us/step - loss: 0.2253\n",
      "Epoch 52/100\n",
      "11/11 [==============================] - 0s 536us/step - loss: 0.2209\n",
      "Epoch 53/100\n",
      "11/11 [==============================] - 0s 569us/step - loss: 0.2160\n",
      "Epoch 54/100\n",
      "11/11 [==============================] - 0s 565us/step - loss: 0.2102\n",
      "Epoch 55/100\n",
      "11/11 [==============================] - 0s 598us/step - loss: 0.2052\n",
      "Epoch 56/100\n",
      "11/11 [==============================] - 0s 521us/step - loss: 0.2010\n",
      "Epoch 57/100\n",
      "11/11 [==============================] - 0s 513us/step - loss: 0.1959\n",
      "Epoch 58/100\n",
      "11/11 [==============================] - 0s 620us/step - loss: 0.1912\n",
      "Epoch 59/100\n",
      "11/11 [==============================] - 0s 561us/step - loss: 0.1865\n",
      "Epoch 60/100\n",
      "11/11 [==============================] - 0s 516us/step - loss: 0.1822\n",
      "Epoch 61/100\n",
      "11/11 [==============================] - 0s 493us/step - loss: 0.1781\n",
      "Epoch 62/100\n",
      "11/11 [==============================] - 0s 529us/step - loss: 0.1730\n",
      "Epoch 63/100\n",
      "11/11 [==============================] - 0s 559us/step - loss: 0.1683\n",
      "Epoch 64/100\n",
      "11/11 [==============================] - 0s 483us/step - loss: 0.1645\n",
      "Epoch 65/100\n",
      "11/11 [==============================] - 0s 485us/step - loss: 0.1603\n",
      "Epoch 66/100\n",
      "11/11 [==============================] - 0s 491us/step - loss: 0.1566\n",
      "Epoch 67/100\n",
      "11/11 [==============================] - 0s 536us/step - loss: 0.1524\n",
      "Epoch 68/100\n",
      "11/11 [==============================] - 0s 504us/step - loss: 0.1484\n",
      "Epoch 69/100\n",
      "11/11 [==============================] - 0s 495us/step - loss: 0.1442\n",
      "Epoch 70/100\n",
      "11/11 [==============================] - 0s 515us/step - loss: 0.1402\n",
      "Epoch 71/100\n",
      "11/11 [==============================] - 0s 540us/step - loss: 0.1363\n",
      "Epoch 72/100\n",
      "11/11 [==============================] - 0s 560us/step - loss: 0.1322\n",
      "Epoch 73/100\n",
      "11/11 [==============================] - 0s 502us/step - loss: 0.1284\n",
      "Epoch 74/100\n",
      "11/11 [==============================] - 0s 484us/step - loss: 0.1252\n",
      "Epoch 75/100\n",
      "11/11 [==============================] - 0s 502us/step - loss: 0.1216\n",
      "Epoch 76/100\n",
      "11/11 [==============================] - 0s 559us/step - loss: 0.1181\n",
      "Epoch 77/100\n",
      "11/11 [==============================] - 0s 515us/step - loss: 0.1151\n",
      "Epoch 78/100\n",
      "11/11 [==============================] - 0s 505us/step - loss: 0.1114\n",
      "Epoch 79/100\n",
      "11/11 [==============================] - 0s 514us/step - loss: 0.1081\n",
      "Epoch 80/100\n",
      "11/11 [==============================] - 0s 510us/step - loss: 0.1049\n",
      "Epoch 81/100\n",
      "11/11 [==============================] - 0s 594us/step - loss: 0.1022\n",
      "Epoch 82/100\n",
      "11/11 [==============================] - 0s 519us/step - loss: 0.0991\n",
      "Epoch 83/100\n",
      "11/11 [==============================] - 0s 483us/step - loss: 0.0972\n",
      "Epoch 84/100\n",
      "11/11 [==============================] - 0s 510us/step - loss: 0.0937\n",
      "Epoch 85/100\n",
      "11/11 [==============================] - 0s 544us/step - loss: 0.0906\n",
      "Epoch 86/100\n",
      "11/11 [==============================] - 0s 599us/step - loss: 0.0884\n",
      "Epoch 87/100\n",
      "11/11 [==============================] - 0s 513us/step - loss: 0.0857\n",
      "Epoch 88/100\n",
      "11/11 [==============================] - 0s 489us/step - loss: 0.0826\n",
      "Epoch 89/100\n",
      "11/11 [==============================] - 0s 2ms/step - loss: 0.0803\n",
      "Epoch 90/100\n",
      "11/11 [==============================] - 0s 748us/step - loss: 0.0777\n",
      "Epoch 91/100\n",
      "11/11 [==============================] - 0s 676us/step - loss: 0.0753\n",
      "Epoch 92/100\n",
      "11/11 [==============================] - 0s 639us/step - loss: 0.0729\n",
      "Epoch 93/100\n",
      "11/11 [==============================] - 0s 622us/step - loss: 0.0707\n",
      "Epoch 94/100\n",
      "11/11 [==============================] - 0s 560us/step - loss: 0.0686\n",
      "Epoch 95/100\n",
      "11/11 [==============================] - 0s 545us/step - loss: 0.0665\n",
      "Epoch 96/100\n",
      "11/11 [==============================] - 0s 543us/step - loss: 0.0644\n",
      "Epoch 97/100\n",
      "11/11 [==============================] - 0s 530us/step - loss: 0.0624\n",
      "Epoch 98/100\n",
      "11/11 [==============================] - 0s 538us/step - loss: 0.0604\n",
      "Epoch 99/100\n"
     ]
    },
    {
     "name": "stdout",
     "output_type": "stream",
     "text": [
      "11/11 [==============================] - 0s 515us/step - loss: 0.0586\n",
      "Epoch 100/100\n",
      "11/11 [==============================] - 0s 561us/step - loss: 0.0565\n"
     ]
    },
    {
     "data": {
      "text/plain": [
       "<tensorflow.python.keras.callbacks.History at 0x7faf6493dd00>"
      ]
     },
     "execution_count": 11,
     "metadata": {},
     "output_type": "execute_result"
    }
   ],
   "source": [
    "ann.fit(x, y, epochs=100, batch_size=10)"
   ]
  },
  {
   "cell_type": "code",
   "execution_count": 12,
   "metadata": {},
   "outputs": [],
   "source": [
    "yhat = ann.predict(x)"
   ]
  },
  {
   "cell_type": "markdown",
   "metadata": {},
   "source": [
    "## Print Mean Squared Error and plot comparison"
   ]
  },
  {
   "cell_type": "code",
   "execution_count": 13,
   "metadata": {},
   "outputs": [
    {
     "name": "stdout",
     "output_type": "stream",
     "text": [
      "MSE: 0.055\n"
     ]
    }
   ],
   "source": [
    "print('MSE: %.3f' %mean_squared_error(y_actual, yhat))"
   ]
  },
  {
   "cell_type": "code",
   "execution_count": 14,
   "metadata": {},
   "outputs": [
    {
     "data": {
      "image/png": "[encoded data removed]",
      "text/plain": [
       "<Figure size 432x288 with 1 Axes>"
      ]
     },
     "metadata": {
      "needs_background": "light"
     },
     "output_type": "display_data"
    }
   ],
   "source": [
    "plt.scatter(xplot, y_actual, label = 'Actual')\n",
    "plt.scatter(xplot, yhat, label = 'Predicted')\n",
    "plt.title(label + ' Function')\n",
    "plt.legend()\n",
    "plt.show()"
   ]
  }
 ],
 "metadata": {
  "kernelspec": {
   "display_name": "Python 3",
   "language": "python",
   "name": "python3"
  },
  "language_info": {
   "codemirror_mode": {
    "name": "ipython",
    "version": 3
   },
   "file_extension": ".py",
   "mimetype": "text/x-python",
   "name": "python",
   "nbconvert_exporter": "python",
   "pygments_lexer": "ipython3",
   "version": "3.8.3"
  }
 },
 "nbformat": 4,
 "nbformat_minor": 4
}
