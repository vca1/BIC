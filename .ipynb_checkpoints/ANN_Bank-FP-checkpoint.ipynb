{
 "cells": [
  {
   "cell_type": "markdown",
   "metadata": {
    "colab_type": "text",
    "id": "lP6JLo1tGNBg"
   },
   "source": [
    "# BIC - CW"
   ]
  },
  {
   "cell_type": "markdown",
   "metadata": {
    "colab_type": "text",
    "id": "gWZyYmS_UE_L"
   },
   "source": [
    "### Importing the libraries"
   ]
  },
  {
   "cell_type": "code",
   "execution_count": 5,
   "metadata": {
    "colab": {},
    "colab_type": "code",
    "id": "MxkJoQBkUIHC"
   },
   "outputs": [
    {
     "name": "stdout",
     "output_type": "stream",
     "text": [
      "The autoreload extension is already loaded. To reload it, use:\n",
      "  %reload_ext autoreload\n"
     ]
    }
   ],
   "source": [
    "# Import modules\n",
    "import numpy as np\n",
    "import pandas as pd\n",
    "import matplotlib.pyplot as plt\n",
    "from sklearn.datasets import load_iris\n",
    "\n",
    "# Import PySwarms as instructed by pyswarms webpage\n",
    "import pyswarms as ps\n",
    "\n",
    "%load_ext autoreload\n",
    "%autoreload 2"
   ]
  },
  {
   "cell_type": "markdown",
   "metadata": {
    "colab_type": "text",
    "id": "1E0Q3aoKUCRX"
   },
   "source": [
    "## 1. Implement a multi-layer ANN architecture"
   ]
  },
  {
   "cell_type": "markdown",
   "metadata": {},
   "source": [
    "### Data Preprocessing"
   ]
  },
  {
   "cell_type": "markdown",
   "metadata": {
    "colab_type": "text",
    "id": "cKWAkFVGUU0Z"
   },
   "source": [
    "#### Importing the dataset (Churn Modelling)"
   ]
  },
  {
   "cell_type": "code",
   "execution_count": 6,
   "metadata": {
    "colab": {},
    "colab_type": "code",
    "id": "MXUkhkMfU4wq"
   },
   "outputs": [],
   "source": [
    "dataset = pd.read_csv('Churn_Modelling.csv')\n",
    "X = dataset.iloc[:, 3:-1].values\n",
    "y = dataset.iloc[:, -1].values"
   ]
  },
  {
   "cell_type": "markdown",
   "metadata": {
    "colab_type": "text",
    "id": "cKWAkFVGUU0Z"
   },
   "source": [
    "#### Encoding gender label"
   ]
  },
  {
   "cell_type": "code",
   "execution_count": 7,
   "metadata": {},
   "outputs": [],
   "source": [
    "from sklearn.preprocessing import LabelEncoder\n",
    "le = LabelEncoder()\n",
    "X[:, 2] = le.fit_transform(X[:, 2])"
   ]
  },
  {
   "cell_type": "markdown",
   "metadata": {
    "colab_type": "text",
    "id": "cKWAkFVGUU0Z"
   },
   "source": [
    "#### Encoding geography label"
   ]
  },
  {
   "cell_type": "code",
   "execution_count": 9,
   "metadata": {},
   "outputs": [],
   "source": [
    "from sklearn.compose import ColumnTransformer\n",
    "from sklearn.preprocessing import OneHotEncoder\n",
    "ct = ColumnTransformer(transformers=[('encoder', OneHotEncoder(), [1])], remainder='passthrough')\n",
    "X = np.array(ct.fit_transform(X))"
   ]
  },
  {
   "cell_type": "markdown",
   "metadata": {
    "colab_type": "text",
    "id": "-zfEzkRVXIwF"
   },
   "source": [
    "### Building the ANN"
   ]
  },
  {
   "cell_type": "markdown",
   "metadata": {
    "colab_type": "text",
    "id": "KvdeScabXtlB"
   },
   "source": [
    "#### Initialising the ANN and indicating number of neurons"
   ]
  },
  {
   "cell_type": "code",
   "execution_count": 10,
   "metadata": {
    "colab": {},
    "colab_type": "code",
    "id": "3dtrScHxXQox"
   },
   "outputs": [
    {
     "name": "stdout",
     "output_type": "stream",
     "text": [
      "Enter number of neurons: 20\n"
     ]
    }
   ],
   "source": [
    "n_inputs = 12\n",
    "n_hidden = int(input(\"Enter number of neurons: \"))\n",
    "n_classes = 2\n",
    "\n",
    "num_samples = len(y)"
   ]
  },
  {
   "cell_type": "code",
   "execution_count": 4,
   "metadata": {},
   "outputs": [],
   "source": [
    "def logits_function(p):\n",
    "\n",
    "    # Roll-back the weights and biases\n",
    "    W1 = p[0:240].reshape((n_inputs,n_hidden))\n",
    "    b1 = p[240:260].reshape((n_hidden,))\n",
    "    W2 = p[260:300].reshape((n_hidden,n_classes))\n",
    "    b2 = p[300:302].reshape((n_classes,))\n",
    "\n",
    "    # Perform forward propagation\n",
    "    z1 = X.dot(W1) + b1  # Pre-activation in Layer 1\n",
    "    a1 = np.tanh(z1.astype(float))     # Activation in Layer 1\n",
    "    logits = a1.dot(W2) + b2 # Pre-activation in Layer 2\n",
    "    return logits          # Logits for Layer 2"
   ]
  },
  {
   "cell_type": "code",
   "execution_count": 7,
   "metadata": {},
   "outputs": [],
   "source": [
    "def forward_prop(params):\n",
    "    \"\"\"Forward propagation as objective function\n",
    "\n",
    "    This computes for the forward propagation of the neural network, as\n",
    "    well as the loss.\n",
    "\n",
    "    Inputs\n",
    "    ------\n",
    "    params: np.ndarray\n",
    "        The dimensions should include an unrolled version of the\n",
    "        weights and biases.\n",
    "\n",
    "    Returns\n",
    "    -------\n",
    "    float\n",
    "        The computed negative log-likelihood loss given the parameters\n",
    "    \"\"\"\n",
    "\n",
    "    logits = logits_function(params)\n",
    "\n",
    "    # Compute for the softmax of the logits\n",
    "    exp_scores = np.exp(logits)\n",
    "    probs = exp_scores / np.sum(exp_scores, axis=1, keepdims=True)\n",
    "\n",
    "    # Compute for the negative log likelihood\n",
    "\n",
    "    corect_logprobs = -np.log(probs[range(num_samples), y])\n",
    "    loss = np.sum(corect_logprobs) / num_samples\n",
    "\n",
    "    return loss\n"
   ]
  },
  {
   "cell_type": "code",
   "execution_count": 8,
   "metadata": {},
   "outputs": [],
   "source": [
    "def f(x):\n",
    "    \"\"\"Higher-level method to do forward_prop in the\n",
    "    whole swarm.\n",
    "\n",
    "    Inputs\n",
    "    ------\n",
    "    x: numpy.ndarray of shape (n_particles, dimensions)\n",
    "        The swarm that will perform the search\n",
    "\n",
    "    Returns\n",
    "    -------\n",
    "    numpy.ndarray of shape (n_particles, )\n",
    "        The computed loss for each particle\n",
    "    \"\"\"\n",
    "    n_particles = x.shape[0]\n",
    "    j = [forward_prop(x[i]) for i in range(n_particles)]\n",
    "    return np.array(j)"
   ]
  },
  {
   "cell_type": "code",
   "execution_count": 9,
   "metadata": {},
   "outputs": [
    {
     "name": "stderr",
     "output_type": "stream",
     "text": [
      "2020-11-20 22:50:40,940 - pyswarms.single.local_best - INFO - Optimize for 500 iters with {'c1': 0.5, 'c2': 0.3, 'w': 0.9, 'k': 2, 'p': 2}\n",
      "pyswarms.single.local_best: 100%|██████████|500/500, best_cost=0.488\n",
      "2020-11-20 22:52:23,305 - pyswarms.single.local_best - INFO - Optimization finished | best cost: 0.4875497012103313, best pos: [-1.05823383e-01 -1.80529829e-01  3.38186431e-01  5.91927827e-01\n",
      "  7.48536514e-01  4.53552493e-01  6.04790155e-01  1.26560671e-01\n",
      "  5.93218111e-01  1.33883306e-01  5.57001552e-01 -1.45787893e-01\n",
      " -2.83980850e-01  3.00044412e-01  2.94468776e-01  4.31856810e-01\n",
      "  5.24801073e-01  3.34410708e-01 -2.58656603e-03  4.82361283e-01\n",
      "  2.89888157e-01  1.47474110e-01 -8.82105480e-02  5.03887669e-01\n",
      " -2.41371093e-01  1.66089321e-01 -2.68149698e-02  3.01334112e-01\n",
      "  2.62655387e-02  2.60981464e-01  2.66085111e-01  9.23893261e-02\n",
      "  7.83989015e-01  1.78323587e-01 -1.13611825e-01  4.37231920e-01\n",
      "  1.29991929e+00  8.20001347e-01 -7.53328957e-01  4.27420376e-01\n",
      " -5.13881974e-01 -5.55612703e-01  2.79312630e-01 -3.19163514e-02\n",
      "  4.90738563e-02  3.13540670e-01 -2.16572414e-01  6.77692746e-01\n",
      " -1.05567821e-01 -4.43354995e-01  1.50105273e-01  1.58090037e-01\n",
      " -3.75156929e-01 -5.42574092e-01 -1.09313481e-01  4.28753354e-01\n",
      " -7.20929576e-02 -8.16763157e-02 -5.98862983e-01  2.89161500e-01\n",
      "  3.93616890e-01 -5.08118416e-01 -2.02949056e-02 -2.31576678e-01\n",
      "  4.33510279e-01 -3.28038588e-01  1.13968991e+00  4.48139948e-02\n",
      "  1.13185819e-01  3.66231754e-01 -6.40202009e-02  8.17442764e-01\n",
      "  4.98184786e-02  2.59411553e-01  6.20602581e-01  4.73095673e-01\n",
      " -5.15364593e-01  4.73429815e-01 -2.43364610e-02 -3.34683774e-01\n",
      "  7.24549696e-02  3.46952431e-01 -1.25479640e-01 -7.93945383e-02\n",
      "  6.38757131e-01  2.60014352e-02 -7.01034490e-01  9.93846969e-01\n",
      "  2.10361280e-01  3.49020478e-01  2.22108275e+00 -6.24713356e-02\n",
      "  4.91426081e-01  9.09786862e-01 -2.39207595e-01  1.45438093e-01\n",
      "  1.08430263e-01 -2.50187367e-01 -4.69078560e-01  2.07260645e-01\n",
      "  2.11460698e-01 -2.61022300e-01  6.07382494e-03 -1.44266996e-01\n",
      " -6.35405979e-01 -1.44980615e-01 -3.21492136e-01 -1.82353836e-01\n",
      "  6.56803656e-05 -3.65395192e-01  7.88121052e-02  6.49159410e-01\n",
      " -2.73966624e-02  2.13987836e-01 -5.11658421e-01  1.61943860e-01\n",
      "  3.78523079e-01 -2.59012863e-01  4.77649333e-01  4.49791174e-01\n",
      " -5.26792060e-01  4.32145074e-01  4.27272511e-01  9.24016756e-01\n",
      "  4.45222094e-01 -2.77035580e-01 -3.56584437e-03 -2.58517813e-01\n",
      "  9.24018269e-01  4.20132850e-01  6.23830701e-01  8.68921784e-01\n",
      "  5.50844691e-01 -3.06019617e-01 -2.44901495e-03  1.65519204e-01\n",
      " -2.26147756e-01 -3.47223406e-01 -3.92523058e-01 -1.58375440e-01\n",
      "  4.37897015e-01  3.26631172e-01 -5.49700106e-01  8.41402199e-02\n",
      "  5.42910666e-01 -6.93875021e-02  2.28639258e-01  8.98685308e-02\n",
      "  9.35160890e-02  6.83912889e-01  2.68903903e-02  4.20730896e-01\n",
      "  4.58834634e-01 -8.75926676e-02  2.42911605e-01  9.01161429e-01\n",
      " -1.44433064e-01  6.93627661e-01  1.03608865e+00 -5.94960784e-02\n",
      "  5.50814093e-01 -3.48607789e-01 -1.81590672e-01  9.25570151e-01\n",
      " -2.05678914e-01  1.61225046e-01 -1.88573941e-01 -3.79875261e-02\n",
      " -3.52878562e-01 -1.27950841e-01 -1.96985789e-01 -7.49747088e-03\n",
      " -1.20556621e-01 -1.67340984e-01  5.46265734e-02  1.41004017e-02\n",
      " -1.55217572e-01 -3.78938400e-01  1.21750062e+00  1.54949545e-01\n",
      " -2.80242966e-01  8.71640910e-02  1.34078358e-01 -1.57784031e-01\n",
      "  6.47288647e-01 -4.06215016e-02  3.79223995e-01  3.52640647e-01\n",
      "  6.51999885e-01  5.13534753e-01 -1.64903760e+00 -2.77294426e-01\n",
      " -4.02325749e-01  1.67166686e-01  6.76792596e-01 -1.01631979e+00\n",
      " -1.46912727e-01  3.43701363e-01  1.49187314e-02 -1.35531934e-01\n",
      " -7.75986921e-01 -1.90113565e-01  1.54864613e-01 -1.00595702e-02\n",
      "  6.53485185e-01  4.31061070e-02  7.64329967e-01  1.81776924e-01\n",
      "  8.34954778e-01 -7.09954426e-01 -3.06039449e-01 -1.42068919e-01\n",
      " -6.50211536e-02 -4.60422517e-01 -2.19469144e-01  5.42008657e-01\n",
      " -2.40907875e-01 -5.88642617e-01  1.40704781e-01  1.81790445e-01\n",
      "  1.51385347e-01  2.14747518e-02  1.70807095e-01  1.51490986e-02\n",
      " -7.79183305e-02 -7.72661238e-01 -3.80293036e-02  4.72519273e-01\n",
      "  3.16568178e-01  6.85492623e-01  7.05286620e-01 -1.65498570e-01\n",
      " -7.21420437e-01 -2.03603749e-01  3.98762967e-01  1.61058705e-01\n",
      " -2.22517406e-01 -2.61650708e-02 -4.57007021e-01  5.70931474e-01\n",
      " -4.59294385e-01  1.27640194e-01  9.88976827e-01  8.69939412e-02\n",
      "  9.59611595e-01 -1.14706028e+00  5.90052860e-01 -3.61393883e-02\n",
      " -1.35665512e-01  1.78467439e-01  1.72957093e-01 -6.54938501e-01\n",
      "  1.33699100e-01  9.84719140e-01 -4.73832190e-01 -1.74626488e-01\n",
      "  2.35739423e-01  4.26383548e-01  6.78913672e-01  4.32018772e-01\n",
      "  9.23126948e-01  1.05833055e+00 -3.94494206e-01 -2.87214617e-01\n",
      "  4.01044871e-01  3.04491034e-01  3.33832827e-02 -4.37282326e-01\n",
      "  6.09277544e-01  1.15174368e-01 -2.55680658e-01  4.20988000e-01\n",
      "  1.11796296e-01  2.11822502e-01 -3.91199877e-02 -4.00450783e-02\n",
      "  2.97503838e-01 -8.07269023e-02  2.03359412e-01  1.68173858e-01\n",
      " -1.01696138e-01  1.36560014e-01  2.14657689e-01 -1.57369058e-01\n",
      " -4.05487563e-01 -3.61302073e-01  3.29488496e-01  4.12512226e-02\n",
      "  9.35626477e-02  3.58877785e-01  8.37446259e-02  6.87823329e-01\n",
      "  7.44758645e-02  1.19842440e-01  1.89740629e-01  8.40016139e-01\n",
      "  9.27970657e-02  3.73522076e-01  4.42111373e-01 -1.92452165e-02\n",
      "  9.17287454e-01 -1.72160430e-01]\n"
     ]
    },
    {
     "name": "stdout",
     "output_type": "stream",
     "text": [
      "CPU times: user 1min 41s, sys: 838 ms, total: 1min 42s\n",
      "Wall time: 1min 42s\n"
     ]
    }
   ],
   "source": [
    "%%time\n",
    "# Initialize swarm\n",
    "options = {'c1': 0.5, 'c2': 0.3, 'w':0.9, 'k':2, 'p':2}\n",
    "\n",
    "# Call instance of PSO\n",
    "dimensions = (n_inputs * n_hidden) + (n_hidden * n_classes) + n_hidden + n_classes\n",
    "optimizer = ps.single.LocalBestPSO(n_particles=50, dimensions=dimensions, options=options)\n",
    "\n",
    "# Perform optimization\n",
    "cost, pos = optimizer.optimize(f, iters=500)"
   ]
  },
  {
   "cell_type": "code",
   "execution_count": 10,
   "metadata": {},
   "outputs": [],
   "source": [
    "def predict(pos):\n",
    "    \"\"\"\n",
    "    Use the trained weights to perform class predictions.\n",
    "\n",
    "    Inputs\n",
    "    ------\n",
    "    pos: numpy.ndarray\n",
    "        Position matrix found by the swarm. Will be rolled\n",
    "        into weights and biases.\n",
    "    \"\"\"\n",
    "    logits = logits_function(pos)\n",
    "    y_pred = np.argmax(logits, axis=1)\n",
    "    return y_pred"
   ]
  },
  {
   "cell_type": "code",
   "execution_count": 11,
   "metadata": {},
   "outputs": [
    {
     "data": {
      "text/plain": [
       "0.7984031936127745"
      ]
     },
     "execution_count": 11,
     "metadata": {},
     "output_type": "execute_result"
    }
   ],
   "source": [
    "(predict(pos) == y).mean()"
   ]
  },
  {
   "cell_type": "markdown",
   "metadata": {},
   "source": [
    "### Number of Neurons and Layers Configuration"
   ]
  },
  {
   "cell_type": "code",
   "execution_count": null,
   "metadata": {},
   "outputs": [],
   "source": [
    "neurons = int(input(\"Enter number of neurons: \"))"
   ]
  },
  {
   "cell_type": "code",
   "execution_count": null,
   "metadata": {},
   "outputs": [],
   "source": [
    "layers = []\n",
    "n = int(input(\"Enter number of layers (1-5): \"))\n",
    "if n < 6 and n > 0:\n",
    "    for i in range (0, n):\n",
    "        print(\"Hyperbolic tangent layer must run every time.\")\n",
    "        print(\"Available activation functions: linear, sigmoid, gaussian, cosine, null\")\n",
    "        layer = input(\"Enter name of desired activation function: \")\n",
    "    \n",
    "        layers.append(layer)    \n",
    "else:\n",
    "    print(\"Wrong number of layers entered\")"
   ]
  },
  {
   "cell_type": "markdown",
   "metadata": {
    "colab_type": "text",
    "id": "rP6urV6SX7kS"
   },
   "source": [
    "### Adding the input layer and the first hidden layer with linear AF"
   ]
  },
  {
   "cell_type": "code",
   "execution_count": null,
   "metadata": {
    "colab": {},
    "colab_type": "code",
    "id": "bppGycBXYCQr"
   },
   "outputs": [],
   "source": [
    "if \"linear\" in layers:\n",
    "    ann.add(tf.keras.layers.Dense(units=neurons, activation='relu'))"
   ]
  },
  {
   "cell_type": "markdown",
   "metadata": {
    "colab_type": "text",
    "id": "BELWAc_8YJze"
   },
   "source": [
    "### Adding the second hidden layer with Sigmoid AF"
   ]
  },
  {
   "cell_type": "code",
   "execution_count": null,
   "metadata": {
    "colab": {},
    "colab_type": "code",
    "id": "JneR0u0sYRTd"
   },
   "outputs": [],
   "source": [
    "if \"sigmoid\" in layers:\n",
    "    ann.add(tf.keras.layers.Dense(units=neurons, activation='sigmoid'))"
   ]
  },
  {
   "cell_type": "markdown",
   "metadata": {
    "colab_type": "text",
    "id": "BELWAc_8YJze"
   },
   "source": [
    "### Adding the third hidden layer with Gaussian AF"
   ]
  },
  {
   "cell_type": "code",
   "execution_count": null,
   "metadata": {},
   "outputs": [],
   "source": [
    "if \"gaussian\" in layers:\n",
    "    ann.add(tf.keras.layers.Dense(units=neurons, activation='gaussian'))"
   ]
  },
  {
   "cell_type": "markdown",
   "metadata": {
    "colab_type": "text",
    "id": "BELWAc_8YJze"
   },
   "source": [
    "### Adding the fourth hidden layer with Cosine AF"
   ]
  },
  {
   "cell_type": "code",
   "execution_count": null,
   "metadata": {},
   "outputs": [],
   "source": [
    "if \"cosine\" in layers:\n",
    "    ann.add(tf.keras.layers.Dense(units=neurons, activation='cosine'))"
   ]
  },
  {
   "cell_type": "markdown",
   "metadata": {
    "colab_type": "text",
    "id": "BELWAc_8YJze"
   },
   "source": [
    "### Adding the fifth hidden layer with Null AF"
   ]
  },
  {
   "cell_type": "code",
   "execution_count": null,
   "metadata": {},
   "outputs": [],
   "source": [
    "if \"null\" in layers:\n",
    "    ann.add(tf.keras.layers.Dense(units=neurons, activation='nullact'))"
   ]
  },
  {
   "cell_type": "markdown",
   "metadata": {
    "colab_type": "text",
    "id": "OyNEe6RXYcU4"
   },
   "source": [
    "### Adding the output layer with Hyperbolic Tangent AF"
   ]
  },
  {
   "cell_type": "code",
   "execution_count": null,
   "metadata": {
    "colab": {},
    "colab_type": "code",
    "id": "Cn3x41RBYfvY"
   },
   "outputs": [],
   "source": [
    "ann.add(tf.keras.layers.Dense(units=1, activation='tanh'))"
   ]
  },
  {
   "cell_type": "markdown",
   "metadata": {
    "colab_type": "text",
    "id": "JT4u2S1_Y4WG"
   },
   "source": [
    "## Part 3 - Training the ANN"
   ]
  },
  {
   "cell_type": "markdown",
   "metadata": {
    "colab_type": "text",
    "id": "8GWlJChhY_ZI"
   },
   "source": [
    "### Compiling the ANN"
   ]
  },
  {
   "cell_type": "code",
   "execution_count": null,
   "metadata": {
    "colab": {},
    "colab_type": "code",
    "id": "fG3RrwDXZEaS"
   },
   "outputs": [],
   "source": [
    "ann.compile(optimizer = 'adam', loss = 'binary_crossentropy', metrics = ['accuracy'])"
   ]
  },
  {
   "cell_type": "markdown",
   "metadata": {
    "colab_type": "text",
    "id": "0QR_G5u7ZLSM"
   },
   "source": [
    "### Training the ANN on the Training set"
   ]
  },
  {
   "cell_type": "code",
   "execution_count": null,
   "metadata": {
    "colab": {},
    "colab_type": "code",
    "id": "fG3RrwDXZEaS"
   },
   "outputs": [],
   "source": [
    "def forward_prop(params):\n",
    "    \n",
    "    for x_train, y_train in dataset:\n",
    "        logits = ann(params)\n",
    "    \n",
    "    exp_scores = np.exp(logits)\n",
    "    probs = exp_scores / np.sum(exp_scores, axis=1, keepdims=True)\n",
    "\n",
    "    # Compute for the negative log likelihood\n",
    "\n",
    "    corect_logprobs = -np.log(probs[range(num_samples), y])\n",
    "    loss = np.sum(corect_logprobs) / num_samples\n",
    "\n",
    "    return loss"
   ]
  },
  {
   "cell_type": "code",
   "execution_count": null,
   "metadata": {},
   "outputs": [],
   "source": [
    "def f(x):\n",
    "    n_particles = x.shape[0]\n",
    "    print(n_particles)\n",
    "    j = [forward_prop(x[i]) for i in range(n_particles)]\n",
    "    return np.array(j)"
   ]
  },
  {
   "cell_type": "code",
   "execution_count": null,
   "metadata": {},
   "outputs": [],
   "source": [
    "# Initialize swarm\n",
    "options = {'c1': 0.5, 'c2': 0.3, 'w':0.9}\n",
    "\n",
    "# Call instance of PSO\n",
    "dimensions = 54\n",
    "optimizer = ps.single.GlobalBestPSO(n_particles=100, dimensions=dimensions, options=options)\n",
    "\n",
    "# Perform optimization\n",
    "cost, pos = optimizer.optimize(f, iters=1000)"
   ]
  },
  {
   "cell_type": "code",
   "execution_count": null,
   "metadata": {
    "colab": {
     "base_uri": "https://localhost:8080/",
     "height": 1000
    },
    "colab_type": "code",
    "id": "nHZ-LKv_ZRb3",
    "outputId": "718cc4b0-b5aa-40f0-9b20-d3d31730a531"
   },
   "outputs": [],
   "source": [
    "ann.fit(X_train, y_train, batch_size = 32, epochs = 100)"
   ]
  },
  {
   "cell_type": "markdown",
   "metadata": {
    "colab_type": "text",
    "id": "tJj5k2MxZga3"
   },
   "source": [
    "## Part 4 - Making the predictions and evaluating the model"
   ]
  },
  {
   "cell_type": "markdown",
   "metadata": {
    "colab_type": "text",
    "id": "84QFoqGYeXHL"
   },
   "source": [
    "### Predicting the result of a single observation"
   ]
  },
  {
   "cell_type": "markdown",
   "metadata": {
    "colab_type": "text",
    "id": "ZhU1LTgPg-kH"
   },
   "source": [
    "**Solution**"
   ]
  },
  {
   "cell_type": "code",
   "execution_count": null,
   "metadata": {
    "colab": {
     "base_uri": "https://localhost:8080/",
     "height": 34
    },
    "colab_type": "code",
    "id": "2d8IoCCkeWGL",
    "outputId": "957f3970-e197-4c3b-a150-7f69dc567f5d"
   },
   "outputs": [],
   "source": [
    "print(ann.predict(sc.transform([[1, 0, 0, 600, 1, 40, 3, 60000, 2, 1, 1, 50000]])) > 0.5)"
   ]
  },
  {
   "cell_type": "markdown",
   "metadata": {
    "colab_type": "text",
    "id": "u7yx47jPZt11"
   },
   "source": [
    "### Predicting the Test set results"
   ]
  },
  {
   "cell_type": "code",
   "execution_count": null,
   "metadata": {
    "colab": {
     "base_uri": "https://localhost:8080/",
     "height": 137
    },
    "colab_type": "code",
    "id": "nIyEeQdRZwgs",
    "outputId": "82330ba8-9bdc-4fd1-d3cf-b6d78ee7c2a3"
   },
   "outputs": [],
   "source": [
    "y_pred = ann.predict(X_test)\n",
    "y_pred = (y_pred > 0.5)\n",
    "print(np.concatenate((y_pred.reshape(len(y_pred),1), y_test.reshape(len(y_test),1)),1))"
   ]
  },
  {
   "cell_type": "markdown",
   "metadata": {
    "colab_type": "text",
    "id": "o0oyfLWoaEGw"
   },
   "source": [
    "### Making the Confusion Matrix"
   ]
  },
  {
   "cell_type": "code",
   "execution_count": null,
   "metadata": {
    "colab": {
     "base_uri": "https://localhost:8080/",
     "height": 68
    },
    "colab_type": "code",
    "id": "ci6K_r6LaF6P",
    "outputId": "4d854e9e-22d5-432f-f6e5-a102fe3ae0bd"
   },
   "outputs": [],
   "source": [
    "from sklearn.metrics import confusion_matrix, accuracy_score\n",
    "cm = confusion_matrix(y_test, y_pred)\n",
    "print(cm)\n",
    "accuracy_score(y_test, y_pred)"
   ]
  }
 ],
 "metadata": {
  "colab": {
   "collapsed_sections": [],
   "name": "artificial_neural_network.ipynb",
   "provenance": [],
   "toc_visible": true
  },
  "kernelspec": {
   "display_name": "Python 3",
   "language": "python",
   "name": "python3"
  },
  "language_info": {
   "codemirror_mode": {
    "name": "ipython",
    "version": 3
   },
   "file_extension": ".py",
   "mimetype": "text/x-python",
   "name": "python",
   "nbconvert_exporter": "python",
   "pygments_lexer": "ipython3",
   "version": "3.8.3"
  }
 },
 "nbformat": 4,
 "nbformat_minor": 1
}
