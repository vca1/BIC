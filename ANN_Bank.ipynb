{
 "cells": [
  {
   "cell_type": "markdown",
   "metadata": {
    "colab_type": "text",
    "id": "lP6JLo1tGNBg"
   },
   "source": [
    "# Artificial Neural Network"
   ]
  },
  {
   "cell_type": "markdown",
   "metadata": {
    "colab_type": "text",
    "id": "gWZyYmS_UE_L"
   },
   "source": [
    "### Importing the libraries"
   ]
  },
  {
   "cell_type": "code",
   "execution_count": 1,
   "metadata": {
    "colab": {},
    "colab_type": "code",
    "id": "MxkJoQBkUIHC"
   },
   "outputs": [],
   "source": [
    "import numpy as np\n",
    "import pandas as pd\n",
    "import tensorflow as tf"
   ]
  },
  {
   "cell_type": "markdown",
   "metadata": {
    "colab_type": "text",
    "id": "1E0Q3aoKUCRX"
   },
   "source": [
    "## Part 1 - Data Preprocessing"
   ]
  },
  {
   "cell_type": "markdown",
   "metadata": {
    "colab_type": "text",
    "id": "cKWAkFVGUU0Z"
   },
   "source": [
    "### Importing the dataset"
   ]
  },
  {
   "cell_type": "code",
   "execution_count": 2,
   "metadata": {
    "colab": {},
    "colab_type": "code",
    "id": "MXUkhkMfU4wq"
   },
   "outputs": [],
   "source": [
    "dataset = pd.read_csv('Churn_Modelling.csv')\n",
    "X = dataset.iloc[:, 3:-1].values\n",
    "y = dataset.iloc[:, -1].values"
   ]
  },
  {
   "cell_type": "code",
   "execution_count": 3,
   "metadata": {
    "colab": {
     "base_uri": "https://localhost:8080/",
     "height": 137
    },
    "colab_type": "code",
    "id": "VYP9cQTWbzuI",
    "outputId": "797e7a64-9bac-436a-8c9c-94437e5e7587"
   },
   "outputs": [
    {
     "name": "stdout",
     "output_type": "stream",
     "text": [
      "[[619 'France' 'Female' ... 1 1 101348.88]\n",
      " [608 'Spain' 'Female' ... 0 1 112542.58]\n",
      " [502 'France' 'Female' ... 1 0 113931.57]\n",
      " ...\n",
      " [709 'France' 'Female' ... 0 1 42085.58]\n",
      " [772 'Germany' 'Male' ... 1 0 92888.52]\n",
      " [792 'France' 'Female' ... 1 0 38190.78]]\n"
     ]
    }
   ],
   "source": [
    "print(X)"
   ]
  },
  {
   "cell_type": "code",
   "execution_count": 4,
   "metadata": {
    "colab": {
     "base_uri": "https://localhost:8080/",
     "height": 34
    },
    "colab_type": "code",
    "id": "38vKGE6Nb2RR",
    "outputId": "a815e42a-e0dd-4cb5-ab97-b17ead98fbc3"
   },
   "outputs": [
    {
     "name": "stdout",
     "output_type": "stream",
     "text": [
      "[1 0 1 ... 1 1 0]\n"
     ]
    }
   ],
   "source": [
    "print(y)"
   ]
  },
  {
   "cell_type": "markdown",
   "metadata": {
    "colab_type": "text",
    "id": "N6bQ0UgSU-NJ"
   },
   "source": [
    "### Encoding categorical data"
   ]
  },
  {
   "cell_type": "markdown",
   "metadata": {
    "colab_type": "text",
    "id": "le5MJreAbW52"
   },
   "source": [
    "Label Encoding the \"Gender\" column"
   ]
  },
  {
   "cell_type": "code",
   "execution_count": 5,
   "metadata": {
    "colab": {},
    "colab_type": "code",
    "id": "PxVKWXxLbczC"
   },
   "outputs": [],
   "source": [
    "from sklearn.preprocessing import LabelEncoder\n",
    "le = LabelEncoder()\n",
    "X[:, 2] = le.fit_transform(X[:, 2])"
   ]
  },
  {
   "cell_type": "code",
   "execution_count": 6,
   "metadata": {
    "colab": {
     "base_uri": "https://localhost:8080/",
     "height": 137
    },
    "colab_type": "code",
    "id": "-M1KboxFb6OO",
    "outputId": "e2b8c7e8-0cbc-4cdf-f4eb-7f0853a00b88"
   },
   "outputs": [
    {
     "name": "stdout",
     "output_type": "stream",
     "text": [
      "[[619 'France' 0 ... 1 1 101348.88]\n",
      " [608 'Spain' 0 ... 0 1 112542.58]\n",
      " [502 'France' 0 ... 1 0 113931.57]\n",
      " ...\n",
      " [709 'France' 0 ... 0 1 42085.58]\n",
      " [772 'Germany' 1 ... 1 0 92888.52]\n",
      " [792 'France' 0 ... 1 0 38190.78]]\n"
     ]
    }
   ],
   "source": [
    "print(X)"
   ]
  },
  {
   "cell_type": "markdown",
   "metadata": {
    "colab_type": "text",
    "id": "CUxGZezpbMcb"
   },
   "source": [
    "One Hot Encoding the \"Geography\" column"
   ]
  },
  {
   "cell_type": "code",
   "execution_count": 7,
   "metadata": {
    "colab": {},
    "colab_type": "code",
    "id": "AMXC8-KMVirw"
   },
   "outputs": [],
   "source": [
    "from sklearn.compose import ColumnTransformer\n",
    "from sklearn.preprocessing import OneHotEncoder\n",
    "ct = ColumnTransformer(transformers=[('encoder', OneHotEncoder(), [1])], remainder='passthrough')\n",
    "X = np.array(ct.fit_transform(X))"
   ]
  },
  {
   "cell_type": "code",
   "execution_count": 8,
   "metadata": {
    "colab": {
     "base_uri": "https://localhost:8080/",
     "height": 137
    },
    "colab_type": "code",
    "id": "ZcxwEon-b8nV",
    "outputId": "23a98af4-5e33-4b26-c27b-f06e3c5d2baf"
   },
   "outputs": [
    {
     "name": "stdout",
     "output_type": "stream",
     "text": [
      "[[1.0 0.0 0.0 ... 1 1 101348.88]\n",
      " [0.0 0.0 1.0 ... 0 1 112542.58]\n",
      " [1.0 0.0 0.0 ... 1 0 113931.57]\n",
      " ...\n",
      " [1.0 0.0 0.0 ... 0 1 42085.58]\n",
      " [0.0 1.0 0.0 ... 1 0 92888.52]\n",
      " [1.0 0.0 0.0 ... 1 0 38190.78]]\n"
     ]
    }
   ],
   "source": [
    "print(X)"
   ]
  },
  {
   "cell_type": "markdown",
   "metadata": {
    "colab_type": "text",
    "id": "vHol938cW8zd"
   },
   "source": [
    "### Splitting the dataset into the Training set and Test set"
   ]
  },
  {
   "cell_type": "code",
   "execution_count": 9,
   "metadata": {
    "colab": {},
    "colab_type": "code",
    "id": "Z-TDt0Y_XEfc"
   },
   "outputs": [],
   "source": [
    "from sklearn.model_selection import train_test_split\n",
    "X_train, X_test, y_train, y_test = train_test_split(X, y, test_size = 0.2, random_state = 0)"
   ]
  },
  {
   "cell_type": "markdown",
   "metadata": {
    "colab_type": "text",
    "id": "RE_FcHyfV3TQ"
   },
   "source": [
    "### Feature Scaling"
   ]
  },
  {
   "cell_type": "code",
   "execution_count": 10,
   "metadata": {
    "colab": {},
    "colab_type": "code",
    "id": "ViCrE00rV8Sk"
   },
   "outputs": [],
   "source": [
    "from sklearn.preprocessing import StandardScaler\n",
    "sc = StandardScaler()\n",
    "X_train = sc.fit_transform(X_train)\n",
    "X_test = sc.transform(X_test)"
   ]
  },
  {
   "cell_type": "markdown",
   "metadata": {
    "colab_type": "text",
    "id": "-zfEzkRVXIwF"
   },
   "source": [
    "## Part 2 - Building the ANN"
   ]
  },
  {
   "cell_type": "markdown",
   "metadata": {
    "colab_type": "text",
    "id": "KvdeScabXtlB"
   },
   "source": [
    "### Initializing the ANN and adding custom Gaussian, Cosine and Null Activation Functions"
   ]
  },
  {
   "cell_type": "code",
   "execution_count": 11,
   "metadata": {
    "colab": {},
    "colab_type": "code",
    "id": "3dtrScHxXQox"
   },
   "outputs": [],
   "source": [
    "ann = tf.keras.models.Sequential()\n",
    "K = tf.keras.backend\n",
    "utils = tf.keras.utils\n",
    "def gaussian(x):\n",
    "    return K.exp(-K.pow(x,2)/2)\n",
    "def cosine(x) :\n",
    "    return K.cos(x)\n",
    "def nullact(x) :\n",
    "    return K.constant(0)*x\n",
    "\n",
    "utils.get_custom_objects().update({'gaussian': tf.keras.layers.Activation(gaussian)})\n",
    "utils.get_custom_objects().update({'cosine': tf.keras.layers.Activation(cosine)})\n",
    "utils.get_custom_objects().update({'nullact': tf.keras.layers.Activation(nullact)})"
   ]
  },
  {
   "cell_type": "markdown",
   "metadata": {
    "colab_type": "text",
    "id": "rP6urV6SX7kS"
   },
   "source": [
    "### Adding the input layer and the first hidden layer with linear AF"
   ]
  },
  {
   "cell_type": "code",
   "execution_count": 12,
   "metadata": {
    "colab": {},
    "colab_type": "code",
    "id": "bppGycBXYCQr"
   },
   "outputs": [],
   "source": [
    "ann.add(tf.keras.layers.Dense(units=6, activation='relu'))"
   ]
  },
  {
   "cell_type": "markdown",
   "metadata": {
    "colab_type": "text",
    "id": "BELWAc_8YJze"
   },
   "source": [
    "### Adding the second hidden layer with Sigmoid AF"
   ]
  },
  {
   "cell_type": "code",
   "execution_count": 13,
   "metadata": {
    "colab": {},
    "colab_type": "code",
    "id": "JneR0u0sYRTd"
   },
   "outputs": [],
   "source": [
    "ann.add(tf.keras.layers.Dense(units=6, activation='sigmoid'))"
   ]
  },
  {
   "cell_type": "markdown",
   "metadata": {
    "colab_type": "text",
    "id": "BELWAc_8YJze"
   },
   "source": [
    "### Adding the third hidden layer with Gaussian AF"
   ]
  },
  {
   "cell_type": "code",
   "execution_count": 14,
   "metadata": {},
   "outputs": [],
   "source": [
    "ann.add(tf.keras.layers.Dense(units=6, activation='gaussian'))"
   ]
  },
  {
   "cell_type": "markdown",
   "metadata": {
    "colab_type": "text",
    "id": "BELWAc_8YJze"
   },
   "source": [
    "### Adding the fourth hidden layer with Cosine AF"
   ]
  },
  {
   "cell_type": "code",
   "execution_count": 15,
   "metadata": {},
   "outputs": [],
   "source": [
    "ann.add(tf.keras.layers.Dense(units=6, activation='cosine'))"
   ]
  },
  {
   "cell_type": "markdown",
   "metadata": {
    "colab_type": "text",
    "id": "BELWAc_8YJze"
   },
   "source": [
    "### Adding the second hidden layer with Null AF"
   ]
  },
  {
   "cell_type": "code",
   "execution_count": 16,
   "metadata": {},
   "outputs": [],
   "source": [
    "ann.add(tf.keras.layers.Dense(units=6, activation='nullact'))"
   ]
  },
  {
   "cell_type": "markdown",
   "metadata": {
    "colab_type": "text",
    "id": "OyNEe6RXYcU4"
   },
   "source": [
    "### Adding the output layer with Hyperbolic Tangent AF"
   ]
  },
  {
   "cell_type": "code",
   "execution_count": 17,
   "metadata": {
    "colab": {},
    "colab_type": "code",
    "id": "Cn3x41RBYfvY"
   },
   "outputs": [],
   "source": [
    "ann.add(tf.keras.layers.Dense(units=1, activation='tanh'))"
   ]
  },
  {
   "cell_type": "markdown",
   "metadata": {
    "colab_type": "text",
    "id": "JT4u2S1_Y4WG"
   },
   "source": [
    "## Part 3 - Training the ANN"
   ]
  },
  {
   "cell_type": "markdown",
   "metadata": {
    "colab_type": "text",
    "id": "8GWlJChhY_ZI"
   },
   "source": [
    "### Compiling the ANN"
   ]
  },
  {
   "cell_type": "code",
   "execution_count": 18,
   "metadata": {
    "colab": {},
    "colab_type": "code",
    "id": "fG3RrwDXZEaS"
   },
   "outputs": [],
   "source": [
    "ann.compile(optimizer = 'adam', loss = 'binary_crossentropy', metrics = ['accuracy'])"
   ]
  },
  {
   "cell_type": "markdown",
   "metadata": {
    "colab_type": "text",
    "id": "0QR_G5u7ZLSM"
   },
   "source": [
    "### Training the ANN on the Training set"
   ]
  },
  {
   "cell_type": "code",
   "execution_count": 19,
   "metadata": {
    "colab": {
     "base_uri": "https://localhost:8080/",
     "height": 1000
    },
    "colab_type": "code",
    "id": "nHZ-LKv_ZRb3",
    "outputId": "718cc4b0-b5aa-40f0-9b20-d3d31730a531"
   },
   "outputs": [
    {
     "name": "stdout",
     "output_type": "stream",
     "text": [
      "Epoch 1/100\n",
      "250/250 [==============================] - 0s 482us/step - loss: 3.1467 - accuracy: 0.7960\n",
      "Epoch 2/100\n",
      "250/250 [==============================] - 0s 446us/step - loss: 3.1467 - accuracy: 0.7960\n",
      "Epoch 3/100\n",
      "250/250 [==============================] - 0s 430us/step - loss: 3.1467 - accuracy: 0.7960\n",
      "Epoch 4/100\n",
      "250/250 [==============================] - 0s 434us/step - loss: 3.1467 - accuracy: 0.7960\n",
      "Epoch 5/100\n",
      "250/250 [==============================] - 0s 432us/step - loss: 3.1467 - accuracy: 0.7960\n",
      "Epoch 6/100\n",
      "250/250 [==============================] - 0s 428us/step - loss: 3.1467 - accuracy: 0.7960\n",
      "Epoch 7/100\n",
      "250/250 [==============================] - 0s 499us/step - loss: 3.1467 - accuracy: 0.7960\n",
      "Epoch 8/100\n",
      "250/250 [==============================] - 0s 440us/step - loss: 3.1467 - accuracy: 0.7960\n",
      "Epoch 9/100\n",
      "250/250 [==============================] - 0s 434us/step - loss: 3.1467 - accuracy: 0.7960\n",
      "Epoch 10/100\n",
      "250/250 [==============================] - 0s 427us/step - loss: 3.1467 - accuracy: 0.7960\n",
      "Epoch 11/100\n",
      "250/250 [==============================] - 0s 430us/step - loss: 3.1467 - accuracy: 0.7960\n",
      "Epoch 12/100\n",
      "250/250 [==============================] - 0s 432us/step - loss: 3.1467 - accuracy: 0.7960\n",
      "Epoch 13/100\n",
      "250/250 [==============================] - 0s 429us/step - loss: 3.1467 - accuracy: 0.7960\n",
      "Epoch 14/100\n",
      "250/250 [==============================] - 0s 447us/step - loss: 3.1467 - accuracy: 0.7960\n",
      "Epoch 15/100\n",
      "250/250 [==============================] - 0s 510us/step - loss: 3.1467 - accuracy: 0.7960\n",
      "Epoch 16/100\n",
      "250/250 [==============================] - 0s 438us/step - loss: 3.1467 - accuracy: 0.7960\n",
      "Epoch 17/100\n",
      "250/250 [==============================] - 0s 433us/step - loss: 3.1467 - accuracy: 0.7960\n",
      "Epoch 18/100\n",
      "250/250 [==============================] - 0s 438us/step - loss: 3.1467 - accuracy: 0.7960\n",
      "Epoch 19/100\n",
      "250/250 [==============================] - 0s 426us/step - loss: 3.1467 - accuracy: 0.7960\n",
      "Epoch 20/100\n",
      "250/250 [==============================] - 0s 434us/step - loss: 3.1467 - accuracy: 0.7960\n",
      "Epoch 21/100\n",
      "250/250 [==============================] - 0s 428us/step - loss: 3.1467 - accuracy: 0.7960\n",
      "Epoch 22/100\n",
      "250/250 [==============================] - 0s 429us/step - loss: 3.1467 - accuracy: 0.7960\n",
      "Epoch 23/100\n",
      "250/250 [==============================] - 0s 442us/step - loss: 3.1467 - accuracy: 0.7960\n",
      "Epoch 24/100\n",
      "250/250 [==============================] - 0s 446us/step - loss: 3.1467 - accuracy: 0.7960\n",
      "Epoch 25/100\n",
      "250/250 [==============================] - 0s 485us/step - loss: 3.1467 - accuracy: 0.7960\n",
      "Epoch 26/100\n",
      "250/250 [==============================] - 0s 440us/step - loss: 3.1467 - accuracy: 0.7960\n",
      "Epoch 27/100\n",
      "250/250 [==============================] - 0s 500us/step - loss: 3.1467 - accuracy: 0.7960\n",
      "Epoch 28/100\n",
      "250/250 [==============================] - 0s 512us/step - loss: 3.1467 - accuracy: 0.7960\n",
      "Epoch 29/100\n",
      "250/250 [==============================] - 0s 479us/step - loss: 3.1467 - accuracy: 0.7960\n",
      "Epoch 30/100\n",
      "250/250 [==============================] - 0s 498us/step - loss: 3.1467 - accuracy: 0.7960\n",
      "Epoch 31/100\n",
      "250/250 [==============================] - 0s 481us/step - loss: 3.1467 - accuracy: 0.7960\n",
      "Epoch 32/100\n",
      "250/250 [==============================] - 0s 481us/step - loss: 3.1467 - accuracy: 0.7960\n",
      "Epoch 33/100\n",
      "250/250 [==============================] - 0s 544us/step - loss: 3.1467 - accuracy: 0.7960\n",
      "Epoch 34/100\n",
      "250/250 [==============================] - 0s 445us/step - loss: 3.1467 - accuracy: 0.7960\n",
      "Epoch 35/100\n",
      "250/250 [==============================] - 0s 436us/step - loss: 3.1467 - accuracy: 0.7960\n",
      "Epoch 36/100\n",
      "250/250 [==============================] - 0s 486us/step - loss: 3.1467 - accuracy: 0.7960\n",
      "Epoch 37/100\n",
      "250/250 [==============================] - 0s 511us/step - loss: 3.1467 - accuracy: 0.7960\n",
      "Epoch 38/100\n",
      "250/250 [==============================] - 0s 502us/step - loss: 3.1467 - accuracy: 0.7960\n",
      "Epoch 39/100\n",
      "250/250 [==============================] - 0s 496us/step - loss: 3.1467 - accuracy: 0.7960\n",
      "Epoch 40/100\n",
      "250/250 [==============================] - 0s 472us/step - loss: 3.1467 - accuracy: 0.7960\n",
      "Epoch 41/100\n",
      "250/250 [==============================] - 0s 562us/step - loss: 3.1467 - accuracy: 0.7960\n",
      "Epoch 42/100\n",
      "250/250 [==============================] - 0s 496us/step - loss: 3.1467 - accuracy: 0.7960\n",
      "Epoch 43/100\n",
      "250/250 [==============================] - 0s 564us/step - loss: 3.1467 - accuracy: 0.7960\n",
      "Epoch 44/100\n",
      "250/250 [==============================] - 0s 507us/step - loss: 3.1467 - accuracy: 0.7960\n",
      "Epoch 45/100\n",
      "250/250 [==============================] - 0s 478us/step - loss: 3.1467 - accuracy: 0.7960\n",
      "Epoch 46/100\n",
      "250/250 [==============================] - 0s 480us/step - loss: 3.1467 - accuracy: 0.7960\n",
      "Epoch 47/100\n",
      "250/250 [==============================] - 0s 483us/step - loss: 3.1467 - accuracy: 0.7960\n",
      "Epoch 48/100\n",
      "250/250 [==============================] - 0s 440us/step - loss: 3.1467 - accuracy: 0.7960\n",
      "Epoch 49/100\n",
      "250/250 [==============================] - 0s 519us/step - loss: 3.1467 - accuracy: 0.7960\n",
      "Epoch 50/100\n",
      "250/250 [==============================] - 0s 502us/step - loss: 3.1467 - accuracy: 0.7960\n",
      "Epoch 51/100\n",
      "250/250 [==============================] - 0s 500us/step - loss: 3.1467 - accuracy: 0.7960\n",
      "Epoch 52/100\n",
      "250/250 [==============================] - 0s 510us/step - loss: 3.1467 - accuracy: 0.7960\n",
      "Epoch 53/100\n",
      "250/250 [==============================] - 0s 492us/step - loss: 3.1467 - accuracy: 0.7960\n",
      "Epoch 54/100\n",
      "250/250 [==============================] - 0s 502us/step - loss: 3.1467 - accuracy: 0.7960\n",
      "Epoch 55/100\n",
      "250/250 [==============================] - 0s 462us/step - loss: 3.1467 - accuracy: 0.7960\n",
      "Epoch 56/100\n",
      "250/250 [==============================] - 0s 424us/step - loss: 3.1467 - accuracy: 0.7960\n",
      "Epoch 57/100\n",
      "250/250 [==============================] - 0s 529us/step - loss: 3.1467 - accuracy: 0.7960\n",
      "Epoch 58/100\n",
      "250/250 [==============================] - 0s 433us/step - loss: 3.1467 - accuracy: 0.7960\n",
      "Epoch 59/100\n",
      "250/250 [==============================] - 0s 446us/step - loss: 3.1467 - accuracy: 0.7960\n",
      "Epoch 60/100\n",
      "250/250 [==============================] - 0s 489us/step - loss: 3.1467 - accuracy: 0.7960\n",
      "Epoch 61/100\n",
      "250/250 [==============================] - 0s 447us/step - loss: 3.1467 - accuracy: 0.7960\n",
      "Epoch 62/100\n",
      "250/250 [==============================] - 0s 451us/step - loss: 3.1467 - accuracy: 0.7960\n",
      "Epoch 63/100\n",
      "250/250 [==============================] - 0s 476us/step - loss: 3.1467 - accuracy: 0.7960\n",
      "Epoch 64/100\n",
      "250/250 [==============================] - 0s 447us/step - loss: 3.1467 - accuracy: 0.7960\n",
      "Epoch 65/100\n",
      "250/250 [==============================] - 0s 513us/step - loss: 3.1467 - accuracy: 0.7960\n",
      "Epoch 66/100\n",
      "250/250 [==============================] - 0s 449us/step - loss: 3.1467 - accuracy: 0.7960\n",
      "Epoch 67/100\n",
      "250/250 [==============================] - 0s 467us/step - loss: 3.1467 - accuracy: 0.7960\n",
      "Epoch 68/100\n",
      "250/250 [==============================] - 0s 452us/step - loss: 3.1467 - accuracy: 0.7960\n",
      "Epoch 69/100\n",
      "250/250 [==============================] - 0s 485us/step - loss: 3.1467 - accuracy: 0.7960\n",
      "Epoch 70/100\n",
      "250/250 [==============================] - 0s 451us/step - loss: 3.1467 - accuracy: 0.7960\n",
      "Epoch 71/100\n",
      "250/250 [==============================] - 0s 456us/step - loss: 3.1467 - accuracy: 0.7960\n",
      "Epoch 72/100\n",
      "250/250 [==============================] - 0s 450us/step - loss: 3.1467 - accuracy: 0.7960\n",
      "Epoch 73/100\n",
      "250/250 [==============================] - 0s 537us/step - loss: 3.1467 - accuracy: 0.7960\n",
      "Epoch 74/100\n",
      "250/250 [==============================] - 0s 539us/step - loss: 3.1467 - accuracy: 0.7960\n",
      "Epoch 75/100\n",
      "250/250 [==============================] - 0s 449us/step - loss: 3.1467 - accuracy: 0.7960\n",
      "Epoch 76/100\n",
      "250/250 [==============================] - 0s 455us/step - loss: 3.1467 - accuracy: 0.7960\n",
      "Epoch 77/100\n",
      "250/250 [==============================] - 0s 443us/step - loss: 3.1467 - accuracy: 0.7960\n",
      "Epoch 78/100\n",
      "250/250 [==============================] - 0s 465us/step - loss: 3.1467 - accuracy: 0.7960\n",
      "Epoch 79/100\n"
     ]
    },
    {
     "name": "stdout",
     "output_type": "stream",
     "text": [
      "250/250 [==============================] - 0s 512us/step - loss: 3.1467 - accuracy: 0.7960\n",
      "Epoch 80/100\n",
      "250/250 [==============================] - 0s 483us/step - loss: 3.1467 - accuracy: 0.7960\n",
      "Epoch 81/100\n",
      "250/250 [==============================] - 0s 472us/step - loss: 3.1467 - accuracy: 0.7960\n",
      "Epoch 82/100\n",
      "250/250 [==============================] - 0s 485us/step - loss: 3.1467 - accuracy: 0.7960\n",
      "Epoch 83/100\n",
      "250/250 [==============================] - 0s 468us/step - loss: 3.1467 - accuracy: 0.7960\n",
      "Epoch 84/100\n",
      "250/250 [==============================] - 0s 468us/step - loss: 3.1467 - accuracy: 0.7960\n",
      "Epoch 85/100\n",
      "250/250 [==============================] - 0s 440us/step - loss: 3.1467 - accuracy: 0.7960\n",
      "Epoch 86/100\n",
      "250/250 [==============================] - 0s 445us/step - loss: 3.1467 - accuracy: 0.7960\n",
      "Epoch 87/100\n",
      "250/250 [==============================] - 0s 451us/step - loss: 3.1467 - accuracy: 0.7960\n",
      "Epoch 88/100\n",
      "250/250 [==============================] - 0s 442us/step - loss: 3.1467 - accuracy: 0.7960\n",
      "Epoch 89/100\n",
      "250/250 [==============================] - 0s 448us/step - loss: 3.1467 - accuracy: 0.7960\n",
      "Epoch 90/100\n",
      "250/250 [==============================] - 0s 474us/step - loss: 3.1467 - accuracy: 0.7960\n",
      "Epoch 91/100\n",
      "250/250 [==============================] - 0s 452us/step - loss: 3.1467 - accuracy: 0.7960\n",
      "Epoch 92/100\n",
      "250/250 [==============================] - 0s 494us/step - loss: 3.1467 - accuracy: 0.7960\n",
      "Epoch 93/100\n",
      "250/250 [==============================] - 0s 445us/step - loss: 3.1467 - accuracy: 0.7960\n",
      "Epoch 94/100\n",
      "250/250 [==============================] - 0s 448us/step - loss: 3.1467 - accuracy: 0.7960\n",
      "Epoch 95/100\n",
      "250/250 [==============================] - 0s 445us/step - loss: 3.1467 - accuracy: 0.7960\n",
      "Epoch 96/100\n",
      "250/250 [==============================] - 0s 445us/step - loss: 3.1467 - accuracy: 0.7960\n",
      "Epoch 97/100\n",
      "250/250 [==============================] - 0s 451us/step - loss: 3.1467 - accuracy: 0.7960\n",
      "Epoch 98/100\n",
      "250/250 [==============================] - 0s 493us/step - loss: 3.1467 - accuracy: 0.7960\n",
      "Epoch 99/100\n",
      "250/250 [==============================] - 0s 551us/step - loss: 3.1467 - accuracy: 0.7960\n",
      "Epoch 100/100\n",
      "250/250 [==============================] - 0s 519us/step - loss: 3.1467 - accuracy: 0.7960\n"
     ]
    },
    {
     "data": {
      "text/plain": [
       "<tensorflow.python.keras.callbacks.History at 0x7fa2dffe7340>"
      ]
     },
     "execution_count": 19,
     "metadata": {},
     "output_type": "execute_result"
    }
   ],
   "source": [
    "ann.fit(X_train, y_train, batch_size = 32, epochs = 100)"
   ]
  },
  {
   "cell_type": "markdown",
   "metadata": {
    "colab_type": "text",
    "id": "tJj5k2MxZga3"
   },
   "source": [
    "## Part 4 - Making the predictions and evaluating the model"
   ]
  },
  {
   "cell_type": "markdown",
   "metadata": {
    "colab_type": "text",
    "id": "84QFoqGYeXHL"
   },
   "source": [
    "### Predicting the result of a single observation"
   ]
  },
  {
   "cell_type": "markdown",
   "metadata": {
    "colab_type": "text",
    "id": "CGRo3eacgDdC"
   },
   "source": [
    "**Homework**\n",
    "\n",
    "Use our ANN model to predict if the customer with the following informations will leave the bank: \n",
    "\n",
    "Geography: France\n",
    "\n",
    "Credit Score: 600\n",
    "\n",
    "Gender: Male\n",
    "\n",
    "Age: 40 years old\n",
    "\n",
    "Tenure: 3 years\n",
    "\n",
    "Balance: \\$ 60000\n",
    "\n",
    "Number of Products: 2\n",
    "\n",
    "Does this customer have a credit card ? Yes\n",
    "\n",
    "Is this customer an Active Member: Yes\n",
    "\n",
    "Estimated Salary: \\$ 50000\n",
    "\n",
    "So, should we say goodbye to that customer ?"
   ]
  },
  {
   "cell_type": "markdown",
   "metadata": {
    "colab_type": "text",
    "id": "ZhU1LTgPg-kH"
   },
   "source": [
    "**Solution**"
   ]
  },
  {
   "cell_type": "code",
   "execution_count": 20,
   "metadata": {
    "colab": {
     "base_uri": "https://localhost:8080/",
     "height": 34
    },
    "colab_type": "code",
    "id": "2d8IoCCkeWGL",
    "outputId": "957f3970-e197-4c3b-a150-7f69dc567f5d"
   },
   "outputs": [
    {
     "name": "stdout",
     "output_type": "stream",
     "text": [
      "[[False]]\n"
     ]
    }
   ],
   "source": [
    "print(ann.predict(sc.transform([[1, 0, 0, 600, 1, 40, 3, 60000, 2, 1, 1, 50000]])) > 0.5)"
   ]
  },
  {
   "cell_type": "markdown",
   "metadata": {
    "colab_type": "text",
    "id": "wGjx94g2n7OV"
   },
   "source": [
    "Therefore, our ANN model predicts that this customer stays in the bank!\n",
    "\n",
    "**Important note 1:** Notice that the values of the features were all input in a double pair of square brackets. That's because the \"predict\" method always expects a 2D array as the format of its inputs. And putting our values into a double pair of square brackets makes the input exactly a 2D array.\n",
    "\n",
    "**Important note 2:** Notice also that the \"France\" country was not input as a string in the last column but as \"1, 0, 0\" in the first three columns. That's because of course the predict method expects the one-hot-encoded values of the state, and as we see in the first row of the matrix of features X, \"France\" was encoded as \"1, 0, 0\". And be careful to include these values in the first three columns, because the dummy variables are always created in the first columns."
   ]
  },
  {
   "cell_type": "markdown",
   "metadata": {
    "colab_type": "text",
    "id": "u7yx47jPZt11"
   },
   "source": [
    "### Predicting the Test set results"
   ]
  },
  {
   "cell_type": "code",
   "execution_count": 21,
   "metadata": {
    "colab": {
     "base_uri": "https://localhost:8080/",
     "height": 137
    },
    "colab_type": "code",
    "id": "nIyEeQdRZwgs",
    "outputId": "82330ba8-9bdc-4fd1-d3cf-b6d78ee7c2a3"
   },
   "outputs": [
    {
     "name": "stdout",
     "output_type": "stream",
     "text": [
      "[[0 0]\n",
      " [0 1]\n",
      " [0 0]\n",
      " ...\n",
      " [0 0]\n",
      " [0 0]\n",
      " [0 0]]\n"
     ]
    }
   ],
   "source": [
    "y_pred = ann.predict(X_test)\n",
    "y_pred = (y_pred > 0.5)\n",
    "print(np.concatenate((y_pred.reshape(len(y_pred),1), y_test.reshape(len(y_test),1)),1))"
   ]
  },
  {
   "cell_type": "markdown",
   "metadata": {
    "colab_type": "text",
    "id": "o0oyfLWoaEGw"
   },
   "source": [
    "### Making the Confusion Matrix"
   ]
  },
  {
   "cell_type": "code",
   "execution_count": 22,
   "metadata": {
    "colab": {
     "base_uri": "https://localhost:8080/",
     "height": 68
    },
    "colab_type": "code",
    "id": "ci6K_r6LaF6P",
    "outputId": "4d854e9e-22d5-432f-f6e5-a102fe3ae0bd"
   },
   "outputs": [
    {
     "name": "stdout",
     "output_type": "stream",
     "text": [
      "[[1595    0]\n",
      " [ 405    0]]\n"
     ]
    },
    {
     "data": {
      "text/plain": [
       "0.7975"
      ]
     },
     "execution_count": 22,
     "metadata": {},
     "output_type": "execute_result"
    }
   ],
   "source": [
    "from sklearn.metrics import confusion_matrix, accuracy_score\n",
    "cm = confusion_matrix(y_test, y_pred)\n",
    "print(cm)\n",
    "accuracy_score(y_test, y_pred)"
   ]
  }
 ],
 "metadata": {
  "colab": {
   "collapsed_sections": [],
   "name": "artificial_neural_network.ipynb",
   "provenance": [],
   "toc_visible": true
  },
  "kernelspec": {
   "display_name": "Python 3",
   "language": "python",
   "name": "python3"
  },
  "language_info": {
   "codemirror_mode": {
    "name": "ipython",
    "version": 3
   },
   "file_extension": ".py",
   "mimetype": "text/x-python",
   "name": "python",
   "nbconvert_exporter": "python",
   "pygments_lexer": "ipython3",
   "version": "3.8.3"
  }
 },
 "nbformat": 4,
 "nbformat_minor": 1
}
