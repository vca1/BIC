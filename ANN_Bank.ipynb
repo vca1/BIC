{
 "cells": [
  {
   "cell_type": "markdown",
   "metadata": {},
   "source": [
    "based on: https://github.com/joanby/machinelearning-az"
   ]
  },
  {
   "cell_type": "markdown",
   "metadata": {
    "colab_type": "text",
    "id": "lP6JLo1tGNBg"
   },
   "source": [
    "# BIC - ANN"
   ]
  },
  {
   "cell_type": "markdown",
   "metadata": {},
   "source": [
    "The ANN will train on bank information and evaluate if a customer is in danger of exiting the bank."
   ]
  },
  {
   "cell_type": "markdown",
   "metadata": {
    "colab_type": "text",
    "id": "gWZyYmS_UE_L"
   },
   "source": [
    "### Importing the libraries"
   ]
  },
  {
   "cell_type": "code",
   "execution_count": 1,
   "metadata": {
    "colab": {},
    "colab_type": "code",
    "id": "MxkJoQBkUIHC"
   },
   "outputs": [],
   "source": [
    "import numpy as np\n",
    "import pandas as pd\n",
    "import tensorflow as tf"
   ]
  },
  {
   "cell_type": "markdown",
   "metadata": {
    "colab_type": "text",
    "id": "cKWAkFVGUU0Z"
   },
   "source": [
    "### Importing the dataset"
   ]
  },
  {
   "cell_type": "code",
   "execution_count": 2,
   "metadata": {
    "colab": {},
    "colab_type": "code",
    "id": "MXUkhkMfU4wq"
   },
   "outputs": [],
   "source": [
    "dataset = pd.read_csv('Churn_Modelling_ANN.csv')\n",
    "X = dataset.iloc[:, 3:-1].values\n",
    "y = dataset.iloc[:, -1].values"
   ]
  },
  {
   "cell_type": "code",
   "execution_count": 3,
   "metadata": {
    "colab": {
     "base_uri": "https://localhost:8080/",
     "height": 137
    },
    "colab_type": "code",
    "id": "VYP9cQTWbzuI",
    "outputId": "797e7a64-9bac-436a-8c9c-94437e5e7587"
   },
   "outputs": [
    {
     "name": "stdout",
     "output_type": "stream",
     "text": [
      "[[619 'France' 'Female' ... 1 1 101348.88]\n",
      " [608 'Spain' 'Female' ... 0 1 112542.58]\n",
      " [502 'France' 'Female' ... 1 0 113931.57]\n",
      " ...\n",
      " [709 'France' 'Female' ... 0 1 42085.58]\n",
      " [772 'Germany' 'Male' ... 1 0 92888.52]\n",
      " [792 'France' 'Female' ... 1 0 38190.78]]\n"
     ]
    }
   ],
   "source": [
    "#Print to identify attributes to encode\n",
    "print(X)"
   ]
  },
  {
   "cell_type": "markdown",
   "metadata": {
    "colab_type": "text",
    "id": "N6bQ0UgSU-NJ"
   },
   "source": [
    "### Encoding categorical data"
   ]
  },
  {
   "cell_type": "markdown",
   "metadata": {
    "colab_type": "text",
    "id": "le5MJreAbW52"
   },
   "source": [
    "#### Label Encoding the \"Gender\" column"
   ]
  },
  {
   "cell_type": "code",
   "execution_count": 4,
   "metadata": {
    "colab": {},
    "colab_type": "code",
    "id": "PxVKWXxLbczC"
   },
   "outputs": [],
   "source": [
    "from sklearn.preprocessing import LabelEncoder\n",
    "le = LabelEncoder()\n",
    "X[:, 2] = le.fit_transform(X[:, 2])"
   ]
  },
  {
   "cell_type": "code",
   "execution_count": 5,
   "metadata": {
    "colab": {
     "base_uri": "https://localhost:8080/",
     "height": 137
    },
    "colab_type": "code",
    "id": "-M1KboxFb6OO",
    "outputId": "e2b8c7e8-0cbc-4cdf-f4eb-7f0853a00b88"
   },
   "outputs": [
    {
     "name": "stdout",
     "output_type": "stream",
     "text": [
      "[[619 'France' 0 ... 1 1 101348.88]\n",
      " [608 'Spain' 0 ... 0 1 112542.58]\n",
      " [502 'France' 0 ... 1 0 113931.57]\n",
      " ...\n",
      " [709 'France' 0 ... 0 1 42085.58]\n",
      " [772 'Germany' 1 ... 1 0 92888.52]\n",
      " [792 'France' 0 ... 1 0 38190.78]]\n"
     ]
    }
   ],
   "source": [
    "# Confirm encoding and identify labels for male and female\n",
    "print(X)"
   ]
  },
  {
   "cell_type": "markdown",
   "metadata": {
    "colab_type": "text",
    "id": "CUxGZezpbMcb"
   },
   "source": [
    "#### One Hot Encoding the \"Geography\" column"
   ]
  },
  {
   "cell_type": "code",
   "execution_count": 6,
   "metadata": {
    "colab": {},
    "colab_type": "code",
    "id": "AMXC8-KMVirw"
   },
   "outputs": [],
   "source": [
    "from sklearn.compose import ColumnTransformer\n",
    "from sklearn.preprocessing import OneHotEncoder\n",
    "ct = ColumnTransformer(transformers=[('encoder', OneHotEncoder(), [1])], remainder='passthrough')\n",
    "X = np.array(ct.fit_transform(X))"
   ]
  },
  {
   "cell_type": "code",
   "execution_count": 7,
   "metadata": {
    "colab": {
     "base_uri": "https://localhost:8080/",
     "height": 137
    },
    "colab_type": "code",
    "id": "ZcxwEon-b8nV",
    "outputId": "23a98af4-5e33-4b26-c27b-f06e3c5d2baf"
   },
   "outputs": [
    {
     "name": "stdout",
     "output_type": "stream",
     "text": [
      "[[1.0 0.0 0.0 ... 1 1 101348.88]\n",
      " [0.0 0.0 1.0 ... 0 1 112542.58]\n",
      " [1.0 0.0 0.0 ... 1 0 113931.57]\n",
      " ...\n",
      " [1.0 0.0 0.0 ... 0 1 42085.58]\n",
      " [0.0 1.0 0.0 ... 1 0 92888.52]\n",
      " [1.0 0.0 0.0 ... 1 0 38190.78]]\n"
     ]
    }
   ],
   "source": [
    "#Identify labels for three countries\n",
    "print(X)"
   ]
  },
  {
   "cell_type": "markdown",
   "metadata": {
    "colab_type": "text",
    "id": "vHol938cW8zd"
   },
   "source": [
    "### Split into the Training set and Test set"
   ]
  },
  {
   "cell_type": "code",
   "execution_count": 8,
   "metadata": {
    "colab": {},
    "colab_type": "code",
    "id": "Z-TDt0Y_XEfc"
   },
   "outputs": [],
   "source": [
    "import sklearn.model_selection as skms\n",
    "X_train, X_test, y_train, y_test = skms.train_test_split(X, y, test_size = 0.2, random_state = 0)"
   ]
  },
  {
   "cell_type": "markdown",
   "metadata": {
    "colab_type": "text",
    "id": "RE_FcHyfV3TQ"
   },
   "source": [
    "### Feature Scaling"
   ]
  },
  {
   "cell_type": "code",
   "execution_count": 9,
   "metadata": {
    "colab": {},
    "colab_type": "code",
    "id": "ViCrE00rV8Sk"
   },
   "outputs": [],
   "source": [
    "import sklearn.preprocessing as skpp \n",
    "sc = skpp.StandardScaler()\n",
    "X_train = sc.fit_transform(X_train)\n",
    "X_test = sc.transform(X_test)"
   ]
  },
  {
   "cell_type": "markdown",
   "metadata": {
    "colab_type": "text",
    "id": "KvdeScabXtlB"
   },
   "source": [
    "### Initializing the ANN and adding custom Gaussian, Cosine and Null Activation Functions"
   ]
  },
  {
   "cell_type": "code",
   "execution_count": 10,
   "metadata": {
    "colab": {},
    "colab_type": "code",
    "id": "3dtrScHxXQox"
   },
   "outputs": [],
   "source": [
    "ann = tf.keras.models.Sequential()\n",
    "K = tf.keras.backend\n",
    "utils = tf.keras.utils\n",
    "def gaussian(x):\n",
    "    return K.exp(-K.pow(x,2)/2)\n",
    "def cosine(x) :\n",
    "    return K.cos(x)\n",
    "def nullact(x) :\n",
    "    return K.constant(0)*x\n",
    "\n",
    "utils.get_custom_objects().update({'gaussian': tf.keras.layers.Activation(gaussian)})\n",
    "utils.get_custom_objects().update({'cosine': tf.keras.layers.Activation(cosine)})\n",
    "utils.get_custom_objects().update({'nullact': tf.keras.layers.Activation(nullact)})"
   ]
  },
  {
   "cell_type": "markdown",
   "metadata": {},
   "source": [
    "### Number of Neurons and Layers Configuration"
   ]
  },
  {
   "cell_type": "code",
   "execution_count": 11,
   "metadata": {},
   "outputs": [
    {
     "name": "stdout",
     "output_type": "stream",
     "text": [
      "Enter number of neurons: 6\n"
     ]
    }
   ],
   "source": [
    "neurons = int(input(\"Enter number of neurons: \"))"
   ]
  },
  {
   "cell_type": "code",
   "execution_count": 12,
   "metadata": {},
   "outputs": [
    {
     "name": "stdout",
     "output_type": "stream",
     "text": [
      "Enter number of layers (1-5): 2\n",
      "Hyperbolic tangent layer must run every time.\n",
      "Available activation functions: linear, sigmoid, gaussian, cosine, null\n",
      "Enter name of desired activation function: linear\n",
      "Hyperbolic tangent layer must run every time.\n",
      "Available activation functions: linear, sigmoid, gaussian, cosine, null\n",
      "Enter name of desired activation function: sigmoid\n"
     ]
    }
   ],
   "source": [
    "layers = []\n",
    "n = int(input(\"Enter number of layers (1-5): \"))\n",
    "if n < 6 and n > 0:\n",
    "    for i in range (0, n):\n",
    "        print(\"Hyperbolic tangent layer must run every time.\")\n",
    "        print(\"Available activation functions: linear, sigmoid, gaussian, cosine, null\")\n",
    "        layer = input(\"Enter name of desired activation function: \")\n",
    "    \n",
    "        layers.append(layer)    \n",
    "else:\n",
    "    print(\"Wrong number of layers entered\")"
   ]
  },
  {
   "cell_type": "markdown",
   "metadata": {
    "colab_type": "text",
    "id": "rP6urV6SX7kS"
   },
   "source": [
    "### Adding the input layer and the first hidden layer with linear AF"
   ]
  },
  {
   "cell_type": "code",
   "execution_count": 13,
   "metadata": {
    "colab": {},
    "colab_type": "code",
    "id": "bppGycBXYCQr"
   },
   "outputs": [],
   "source": [
    "if \"linear\" in layers:\n",
    "    ann.add(tf.keras.layers.Dense(units=neurons, activation='relu'))"
   ]
  },
  {
   "cell_type": "markdown",
   "metadata": {
    "colab_type": "text",
    "id": "BELWAc_8YJze"
   },
   "source": [
    "### Adding the second hidden layer with Sigmoid AF"
   ]
  },
  {
   "cell_type": "code",
   "execution_count": 14,
   "metadata": {
    "colab": {},
    "colab_type": "code",
    "id": "JneR0u0sYRTd"
   },
   "outputs": [],
   "source": [
    "if \"sigmoid\" in layers:\n",
    "    ann.add(tf.keras.layers.Dense(units=neurons, activation='sigmoid'))"
   ]
  },
  {
   "cell_type": "markdown",
   "metadata": {
    "colab_type": "text",
    "id": "BELWAc_8YJze"
   },
   "source": [
    "### Adding the third hidden layer with Gaussian AF"
   ]
  },
  {
   "cell_type": "code",
   "execution_count": 15,
   "metadata": {},
   "outputs": [],
   "source": [
    "if \"gaussian\" in layers:\n",
    "    ann.add(tf.keras.layers.Dense(units=neurons, activation='gaussian'))"
   ]
  },
  {
   "cell_type": "markdown",
   "metadata": {
    "colab_type": "text",
    "id": "BELWAc_8YJze"
   },
   "source": [
    "### Adding the fourth hidden layer with Cosine AF"
   ]
  },
  {
   "cell_type": "code",
   "execution_count": 16,
   "metadata": {},
   "outputs": [],
   "source": [
    "if \"cosine\" in layers:\n",
    "    ann.add(tf.keras.layers.Dense(units=neurons, activation='cosine'))"
   ]
  },
  {
   "cell_type": "markdown",
   "metadata": {
    "colab_type": "text",
    "id": "BELWAc_8YJze"
   },
   "source": [
    "### Adding the fifth hidden layer with Null AF"
   ]
  },
  {
   "cell_type": "code",
   "execution_count": 17,
   "metadata": {},
   "outputs": [],
   "source": [
    "if \"null\" in layers:\n",
    "    ann.add(tf.keras.layers.Dense(units=neurons, activation='nullact'))"
   ]
  },
  {
   "cell_type": "markdown",
   "metadata": {
    "colab_type": "text",
    "id": "OyNEe6RXYcU4"
   },
   "source": [
    "### Adding the output layer with Hyperbolic Tangent AF"
   ]
  },
  {
   "cell_type": "code",
   "execution_count": 18,
   "metadata": {
    "colab": {},
    "colab_type": "code",
    "id": "Cn3x41RBYfvY"
   },
   "outputs": [],
   "source": [
    "ann.add(tf.keras.layers.Dense(units=1, activation='tanh'))"
   ]
  },
  {
   "cell_type": "markdown",
   "metadata": {
    "colab_type": "text",
    "id": "JT4u2S1_Y4WG"
   },
   "source": [
    "## Training the ANN"
   ]
  },
  {
   "cell_type": "markdown",
   "metadata": {
    "colab_type": "text",
    "id": "8GWlJChhY_ZI"
   },
   "source": [
    "### Compiling"
   ]
  },
  {
   "cell_type": "code",
   "execution_count": 19,
   "metadata": {
    "colab": {},
    "colab_type": "code",
    "id": "fG3RrwDXZEaS"
   },
   "outputs": [],
   "source": [
    "ann.compile(optimizer = 'adam', loss = 'binary_crossentropy', metrics = ['accuracy'])"
   ]
  },
  {
   "cell_type": "markdown",
   "metadata": {
    "colab_type": "text",
    "id": "0QR_G5u7ZLSM"
   },
   "source": [
    "### Training the ANN on training set"
   ]
  },
  {
   "cell_type": "code",
   "execution_count": 20,
   "metadata": {
    "colab": {
     "base_uri": "https://localhost:8080/",
     "height": 1000
    },
    "colab_type": "code",
    "id": "nHZ-LKv_ZRb3",
    "outputId": "718cc4b0-b5aa-40f0-9b20-d3d31730a531"
   },
   "outputs": [
    {
     "name": "stdout",
     "output_type": "stream",
     "text": [
      "Epoch 1/100\n",
      "250/250 [==============================] - 0s 441us/step - loss: 0.5463 - accuracy: 0.7836\n",
      "Epoch 2/100\n",
      "250/250 [==============================] - 0s 397us/step - loss: 0.4971 - accuracy: 0.7960\n",
      "Epoch 3/100\n",
      "250/250 [==============================] - 0s 425us/step - loss: 0.4837 - accuracy: 0.7952\n",
      "Epoch 4/100\n",
      "250/250 [==============================] - 0s 504us/step - loss: 0.4623 - accuracy: 0.7954\n",
      "Epoch 5/100\n",
      "250/250 [==============================] - 0s 417us/step - loss: 0.4514 - accuracy: 0.7970\n",
      "Epoch 6/100\n",
      "250/250 [==============================] - 0s 463us/step - loss: 0.4410 - accuracy: 0.8012\n",
      "Epoch 7/100\n",
      "250/250 [==============================] - 0s 447us/step - loss: 0.4383 - accuracy: 0.8054\n",
      "Epoch 8/100\n",
      "250/250 [==============================] - 0s 453us/step - loss: 0.4322 - accuracy: 0.8075\n",
      "Epoch 9/100\n",
      "250/250 [==============================] - 0s 436us/step - loss: 0.4282 - accuracy: 0.8102\n",
      "Epoch 10/100\n",
      "250/250 [==============================] - 0s 448us/step - loss: 0.4204 - accuracy: 0.8124\n",
      "Epoch 11/100\n",
      "250/250 [==============================] - 0s 478us/step - loss: 0.4182 - accuracy: 0.8154\n",
      "Epoch 12/100\n",
      "250/250 [==============================] - 0s 458us/step - loss: 0.4109 - accuracy: 0.8194\n",
      "Epoch 13/100\n",
      "250/250 [==============================] - 0s 453us/step - loss: 0.4048 - accuracy: 0.8211\n",
      "Epoch 14/100\n",
      "250/250 [==============================] - 0s 511us/step - loss: 0.3979 - accuracy: 0.8234\n",
      "Epoch 15/100\n",
      "250/250 [==============================] - 0s 558us/step - loss: 0.3950 - accuracy: 0.8266\n",
      "Epoch 16/100\n",
      "250/250 [==============================] - 0s 464us/step - loss: 0.3877 - accuracy: 0.8336\n",
      "Epoch 17/100\n",
      "250/250 [==============================] - 0s 442us/step - loss: 0.3823 - accuracy: 0.8361\n",
      "Epoch 18/100\n",
      "250/250 [==============================] - 0s 453us/step - loss: 0.3799 - accuracy: 0.8394\n",
      "Epoch 19/100\n",
      "250/250 [==============================] - 0s 441us/step - loss: 0.3746 - accuracy: 0.8450\n",
      "Epoch 20/100\n",
      "250/250 [==============================] - 0s 440us/step - loss: 0.3700 - accuracy: 0.8490\n",
      "Epoch 21/100\n",
      "250/250 [==============================] - 0s 449us/step - loss: 0.3666 - accuracy: 0.8521\n",
      "Epoch 22/100\n",
      "250/250 [==============================] - 0s 458us/step - loss: 0.3624 - accuracy: 0.8533\n",
      "Epoch 23/100\n",
      "250/250 [==============================] - 0s 465us/step - loss: 0.3616 - accuracy: 0.8537\n",
      "Epoch 24/100\n",
      "250/250 [==============================] - 0s 554us/step - loss: 0.3604 - accuracy: 0.8543\n",
      "Epoch 25/100\n",
      "250/250 [==============================] - 0s 487us/step - loss: 0.3686 - accuracy: 0.8534\n",
      "Epoch 26/100\n",
      "250/250 [==============================] - 0s 463us/step - loss: 0.3578 - accuracy: 0.8558\n",
      "Epoch 27/100\n",
      "250/250 [==============================] - 0s 464us/step - loss: 0.3581 - accuracy: 0.8555\n",
      "Epoch 28/100\n",
      "250/250 [==============================] - 0s 464us/step - loss: 0.3562 - accuracy: 0.8570\n",
      "Epoch 29/100\n",
      "250/250 [==============================] - 0s 469us/step - loss: 0.3528 - accuracy: 0.8564\n",
      "Epoch 30/100\n",
      "250/250 [==============================] - 0s 465us/step - loss: 0.3534 - accuracy: 0.8560\n",
      "Epoch 31/100\n",
      "250/250 [==============================] - 0s 480us/step - loss: 0.3509 - accuracy: 0.8565\n",
      "Epoch 32/100\n",
      "250/250 [==============================] - 0s 528us/step - loss: 0.3508 - accuracy: 0.8568\n",
      "Epoch 33/100\n",
      "250/250 [==============================] - 0s 448us/step - loss: 0.3495 - accuracy: 0.8566\n",
      "Epoch 34/100\n",
      "250/250 [==============================] - 0s 469us/step - loss: 0.3487 - accuracy: 0.8572\n",
      "Epoch 35/100\n",
      "250/250 [==============================] - 0s 449us/step - loss: 0.3478 - accuracy: 0.8577\n",
      "Epoch 36/100\n",
      "250/250 [==============================] - 0s 461us/step - loss: 0.3490 - accuracy: 0.8594\n",
      "Epoch 37/100\n",
      "250/250 [==============================] - 0s 455us/step - loss: 0.3505 - accuracy: 0.8584\n",
      "Epoch 38/100\n",
      "250/250 [==============================] - 0s 478us/step - loss: 0.3487 - accuracy: 0.8577\n",
      "Epoch 39/100\n",
      "250/250 [==============================] - 0s 469us/step - loss: 0.3499 - accuracy: 0.8583\n",
      "Epoch 40/100\n",
      "250/250 [==============================] - 0s 533us/step - loss: 0.3476 - accuracy: 0.8594\n",
      "Epoch 41/100\n",
      "250/250 [==============================] - 0s 466us/step - loss: 0.3660 - accuracy: 0.8585\n",
      "Epoch 42/100\n",
      "250/250 [==============================] - 0s 479us/step - loss: 0.3471 - accuracy: 0.8581\n",
      "Epoch 43/100\n",
      "250/250 [==============================] - 0s 469us/step - loss: 0.3477 - accuracy: 0.8600\n",
      "Epoch 44/100\n",
      "250/250 [==============================] - 0s 481us/step - loss: 0.3463 - accuracy: 0.8581\n",
      "Epoch 45/100\n",
      "250/250 [==============================] - 0s 496us/step - loss: 0.3446 - accuracy: 0.8583\n",
      "Epoch 46/100\n",
      "250/250 [==============================] - 0s 503us/step - loss: 0.3444 - accuracy: 0.8586\n",
      "Epoch 47/100\n",
      "250/250 [==============================] - 0s 491us/step - loss: 0.3448 - accuracy: 0.8589\n",
      "Epoch 48/100\n",
      "250/250 [==============================] - 0s 487us/step - loss: 0.3452 - accuracy: 0.8589\n",
      "Epoch 49/100\n",
      "250/250 [==============================] - 0s 509us/step - loss: 0.3441 - accuracy: 0.8580\n",
      "Epoch 50/100\n",
      "250/250 [==============================] - 0s 476us/step - loss: 0.3436 - accuracy: 0.8595\n",
      "Epoch 51/100\n",
      "250/250 [==============================] - 0s 531us/step - loss: 0.3445 - accuracy: 0.8580\n",
      "Epoch 52/100\n",
      "250/250 [==============================] - 0s 511us/step - loss: 0.3438 - accuracy: 0.8601\n",
      "Epoch 53/100\n",
      "250/250 [==============================] - 0s 501us/step - loss: 0.3449 - accuracy: 0.8591\n",
      "Epoch 54/100\n",
      "250/250 [==============================] - 0s 485us/step - loss: 0.3443 - accuracy: 0.8594\n",
      "Epoch 55/100\n",
      "250/250 [==============================] - 0s 479us/step - loss: 0.3451 - accuracy: 0.8594\n",
      "Epoch 56/100\n",
      "250/250 [==============================] - 0s 537us/step - loss: 0.3509 - accuracy: 0.8594\n",
      "Epoch 57/100\n",
      "250/250 [==============================] - 0s 467us/step - loss: 0.3449 - accuracy: 0.8591\n",
      "Epoch 58/100\n",
      "250/250 [==============================] - 0s 488us/step - loss: 0.3523 - accuracy: 0.8591\n",
      "Epoch 59/100\n",
      "250/250 [==============================] - 0s 506us/step - loss: 0.3502 - accuracy: 0.8591\n",
      "Epoch 60/100\n",
      "250/250 [==============================] - 0s 497us/step - loss: 0.3458 - accuracy: 0.8615\n",
      "Epoch 61/100\n",
      "250/250 [==============================] - 0s 487us/step - loss: 0.3443 - accuracy: 0.8608\n",
      "Epoch 62/100\n",
      "250/250 [==============================] - 0s 488us/step - loss: 0.3437 - accuracy: 0.8600\n",
      "Epoch 63/100\n",
      "250/250 [==============================] - 0s 485us/step - loss: 0.3430 - accuracy: 0.8600\n",
      "Epoch 64/100\n",
      "250/250 [==============================] - 0s 548us/step - loss: 0.3424 - accuracy: 0.8599\n",
      "Epoch 65/100\n",
      "250/250 [==============================] - 0s 487us/step - loss: 0.3460 - accuracy: 0.8619\n",
      "Epoch 66/100\n",
      "250/250 [==============================] - 0s 493us/step - loss: 0.3415 - accuracy: 0.8597\n",
      "Epoch 67/100\n",
      "250/250 [==============================] - 0s 472us/step - loss: 0.3431 - accuracy: 0.8604\n",
      "Epoch 68/100\n",
      "250/250 [==============================] - 0s 593us/step - loss: 0.3409 - accuracy: 0.8602\n",
      "Epoch 69/100\n",
      "250/250 [==============================] - 0s 469us/step - loss: 0.3406 - accuracy: 0.8594\n",
      "Epoch 70/100\n",
      "250/250 [==============================] - 0s 554us/step - loss: 0.3399 - accuracy: 0.8597\n",
      "Epoch 71/100\n",
      "250/250 [==============================] - 0s 470us/step - loss: 0.3415 - accuracy: 0.8610\n",
      "Epoch 72/100\n",
      "250/250 [==============================] - 0s 491us/step - loss: 0.3416 - accuracy: 0.8608\n",
      "Epoch 73/100\n",
      "250/250 [==============================] - 0s 497us/step - loss: 0.3399 - accuracy: 0.8591\n",
      "Epoch 74/100\n",
      "250/250 [==============================] - 0s 485us/step - loss: 0.3419 - accuracy: 0.8609\n",
      "Epoch 75/100\n",
      "250/250 [==============================] - 0s 483us/step - loss: 0.3425 - accuracy: 0.8587\n",
      "Epoch 76/100\n",
      "250/250 [==============================] - 0s 472us/step - loss: 0.3397 - accuracy: 0.8619\n",
      "Epoch 77/100\n",
      "250/250 [==============================] - 0s 476us/step - loss: 0.3408 - accuracy: 0.8595\n",
      "Epoch 78/100\n",
      "250/250 [==============================] - 0s 515us/step - loss: 0.3424 - accuracy: 0.8612\n",
      "Epoch 79/100\n",
      "250/250 [==============================] - 0s 509us/step - loss: 0.3410 - accuracy: 0.8605\n",
      "Epoch 80/100\n",
      "250/250 [==============================] - 0s 475us/step - loss: 0.3399 - accuracy: 0.8609\n",
      "Epoch 81/100\n",
      "250/250 [==============================] - 0s 547us/step - loss: 0.3396 - accuracy: 0.8614\n",
      "Epoch 82/100\n",
      "250/250 [==============================] - 0s 540us/step - loss: 0.3433 - accuracy: 0.8604\n",
      "Epoch 83/100\n",
      "250/250 [==============================] - 0s 538us/step - loss: 0.3393 - accuracy: 0.8612\n",
      "Epoch 84/100\n",
      "250/250 [==============================] - 0s 524us/step - loss: 0.3392 - accuracy: 0.8610\n",
      "Epoch 85/100\n",
      "250/250 [==============================] - 0s 541us/step - loss: 0.3397 - accuracy: 0.8619\n",
      "Epoch 86/100\n",
      "250/250 [==============================] - 0s 464us/step - loss: 0.3499 - accuracy: 0.8600\n",
      "Epoch 87/100\n",
      "250/250 [==============================] - 0s 462us/step - loss: 0.3412 - accuracy: 0.8627\n",
      "Epoch 88/100\n",
      "250/250 [==============================] - 0s 478us/step - loss: 0.3379 - accuracy: 0.8622\n",
      "Epoch 89/100\n",
      "250/250 [==============================] - 0s 467us/step - loss: 0.3383 - accuracy: 0.8621\n",
      "Epoch 90/100\n",
      "250/250 [==============================] - 0s 467us/step - loss: 0.3385 - accuracy: 0.8620\n",
      "Epoch 91/100\n",
      "250/250 [==============================] - 0s 468us/step - loss: 0.3378 - accuracy: 0.8629\n",
      "Epoch 92/100\n",
      "250/250 [==============================] - 0s 470us/step - loss: 0.3377 - accuracy: 0.8620\n",
      "Epoch 93/100\n",
      "250/250 [==============================] - 0s 477us/step - loss: 0.3383 - accuracy: 0.8616\n",
      "Epoch 94/100\n",
      "250/250 [==============================] - 0s 468us/step - loss: 0.3388 - accuracy: 0.8620\n",
      "Epoch 95/100\n",
      "250/250 [==============================] - 0s 539us/step - loss: 0.3377 - accuracy: 0.8618\n",
      "Epoch 96/100\n",
      "250/250 [==============================] - 0s 472us/step - loss: 0.3371 - accuracy: 0.8633\n",
      "Epoch 97/100\n",
      "250/250 [==============================] - 0s 482us/step - loss: 0.3374 - accuracy: 0.8622\n",
      "Epoch 98/100\n",
      "250/250 [==============================] - 0s 481us/step - loss: 0.3387 - accuracy: 0.8620\n",
      "Epoch 99/100\n",
      "250/250 [==============================] - 0s 471us/step - loss: 0.3388 - accuracy: 0.8615\n",
      "Epoch 100/100\n",
      "250/250 [==============================] - 0s 465us/step - loss: 0.3371 - accuracy: 0.8615\n"
     ]
    },
    {
     "data": {
      "text/plain": [
       "<tensorflow.python.keras.callbacks.History at 0x7f888c5c4310>"
      ]
     },
     "execution_count": 20,
     "metadata": {},
     "output_type": "execute_result"
    }
   ],
   "source": [
    "ann.fit(X_train, y_train, batch_size = 32, epochs = 100)"
   ]
  },
  {
   "cell_type": "markdown",
   "metadata": {
    "colab_type": "text",
    "id": "tJj5k2MxZga3"
   },
   "source": [
    "## Evaluating the model"
   ]
  },
  {
   "cell_type": "markdown",
   "metadata": {
    "colab_type": "text",
    "id": "84QFoqGYeXHL"
   },
   "source": [
    "### Single observation prediction"
   ]
  },
  {
   "cell_type": "code",
   "execution_count": 21,
   "metadata": {
    "colab": {
     "base_uri": "https://localhost:8080/",
     "height": 34
    },
    "colab_type": "code",
    "id": "2d8IoCCkeWGL",
    "outputId": "957f3970-e197-4c3b-a150-7f69dc567f5d"
   },
   "outputs": [
    {
     "name": "stdout",
     "output_type": "stream",
     "text": [
      "[[False]]\n"
     ]
    }
   ],
   "source": [
    "##Check if probability is greater than 50% to determine if customer will exit the bank\n",
    "print(ann.predict(sc.transform([[1, 0, 0, 600, 1, 40, 3, 60000, 2, 1, 1, 50000]])) > 0.5)"
   ]
  },
  {
   "cell_type": "markdown",
   "metadata": {
    "colab_type": "text",
    "id": "u7yx47jPZt11"
   },
   "source": [
    "### Predicting the Test set results"
   ]
  },
  {
   "cell_type": "code",
   "execution_count": 22,
   "metadata": {
    "colab": {
     "base_uri": "https://localhost:8080/",
     "height": 137
    },
    "colab_type": "code",
    "id": "nIyEeQdRZwgs",
    "outputId": "82330ba8-9bdc-4fd1-d3cf-b6d78ee7c2a3"
   },
   "outputs": [],
   "source": [
    "y_pred = ann.predict(X_test)\n",
    "y_pred = (y_pred > 0.5)"
   ]
  },
  {
   "cell_type": "markdown",
   "metadata": {
    "colab_type": "text",
    "id": "o0oyfLWoaEGw"
   },
   "source": [
    "### Making the Confusion Matrix"
   ]
  },
  {
   "cell_type": "code",
   "execution_count": 23,
   "metadata": {
    "colab": {
     "base_uri": "https://localhost:8080/",
     "height": 68
    },
    "colab_type": "code",
    "id": "ci6K_r6LaF6P",
    "outputId": "4d854e9e-22d5-432f-f6e5-a102fe3ae0bd"
   },
   "outputs": [
    {
     "name": "stdout",
     "output_type": "stream",
     "text": [
      "[[1515   80]\n",
      " [ 194  211]]\n"
     ]
    },
    {
     "data": {
      "text/plain": [
       "0.863"
      ]
     },
     "execution_count": 23,
     "metadata": {},
     "output_type": "execute_result"
    }
   ],
   "source": [
    "from sklearn.metrics import confusion_matrix, accuracy_score\n",
    "cm = confusion_matrix(y_test, y_pred)\n",
    "print(cm)\n",
    "accuracy_score(y_test, y_pred)"
   ]
  }
 ],
 "metadata": {
  "colab": {
   "collapsed_sections": [],
   "name": "artificial_neural_network.ipynb",
   "provenance": [],
   "toc_visible": true
  },
  "kernelspec": {
   "display_name": "Python 3",
   "language": "python",
   "name": "python3"
  },
  "language_info": {
   "codemirror_mode": {
    "name": "ipython",
    "version": 3
   },
   "file_extension": ".py",
   "mimetype": "text/x-python",
   "name": "python",
   "nbconvert_exporter": "python",
   "pygments_lexer": "ipython3",
   "version": "3.8.3"
  }
 },
 "nbformat": 4,
 "nbformat_minor": 1
}
